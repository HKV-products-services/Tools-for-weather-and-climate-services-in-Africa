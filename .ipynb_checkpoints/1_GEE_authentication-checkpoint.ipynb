{
 "cells": [
  {
   "cell_type": "markdown",
   "metadata": {},
   "source": [
    "![Create a Project](TutorialImages/hkv_logo.png)"
   ]
  },
  {
   "cell_type": "markdown",
   "metadata": {},
   "source": [
    "## Setting up the Google Earth Engine Project\n",
    "\n",
    "First we need to create a Google Project with Google Earth Engine enabled, this requires a Google Account.  \n",
    "You can create a free, personal Google Account by visiting <https://earthengine.google.com/>, clicking on 'Get Started' and following the instructions.  \n",
    "After you have logged in you will be greeted with Get Started Using Earth Engine screen:  \n",
    "\n",
    "![Create a Project](TutorialImages/createProject.png)\n",
    "\n",
    "Click on Register a Noncommercial or Commercial Cloud Project button and follow the instructions.  \n",
    "Take note of the *project ID* and *project name* during the creation of the project.\n"
   ]
  },
  {
   "cell_type": "markdown",
   "metadata": {},
   "source": [
    "# Installing the Google Earth Engine API and importing it in python\n",
    "\n",
    "The next step is to make sure we have the earthengine API installed.  \n",
    "\n",
    "If you are using pip you can issue the following command in a terminal:  \n",
    "    pip install earthengine-api --upgrade  \n",
    "\n",
    "In this notebook we also use the following additional packages:  \n",
    "geemap <https://geemap.org/>  \n",
    "    pip install geemap"
   ]
  },
  {
   "cell_type": "code",
   "execution_count": 35,
   "metadata": {},
   "outputs": [
    {
     "data": {
      "text/html": [
       "\n",
       "            <style>\n",
       "                .geemap-dark {\n",
       "                    --jp-widgets-color: white;\n",
       "                    --jp-widgets-label-color: white;\n",
       "                    --jp-ui-font-color1: white;\n",
       "                    --jp-layout-color2: #454545;\n",
       "                    background-color: #383838;\n",
       "                }\n",
       "                    \n",
       "                .geemap-dark .jupyter-button {\n",
       "                    --jp-layout-color3: #383838;\n",
       "                }\n",
       "                \n",
       "                .geemap-colab {\n",
       "                    background-color: var(--colab-primary-surface-color, white);\n",
       "                }\n",
       "                    \n",
       "                .geemap-colab .jupyter-button {\n",
       "                    --jp-layout-color3: var(--colab-primary-surface-color, white);\n",
       "                }\n",
       "            </style>\n",
       "            "
      ],
      "text/plain": [
       "<IPython.core.display.HTML object>"
      ]
     },
     "metadata": {},
     "output_type": "display_data"
    }
   ],
   "source": [
    "#!pip install geemap"
   ]
  },
  {
   "cell_type": "markdown",
   "metadata": {},
   "source": [
    "Authenticate using ee: \n",
    "- This command will open a new window asking you to sign in with your Google Account.\n",
    "- Then you will have to enable permissions for the notebook to access your Google Account.\n",
    "- The authentication flow will generate a token which you will need to provide in a pop-up box.\n",
    "- The token will be saved and valid for a week."
   ]
  },
  {
   "cell_type": "code",
   "execution_count": 2,
   "metadata": {},
   "outputs": [
    {
     "data": {
      "text/plain": [
       "True"
      ]
     },
     "execution_count": 2,
     "metadata": {},
     "output_type": "execute_result"
    }
   ],
   "source": [
    "# Import the ee API\n",
    "import ee\n",
    "# Authenticate using ee\n",
    "# This command will open a new window asking you to sign in with your Google Account\n",
    "# Then you will have to enable permissions for the notebook to access your Google Account\n",
    "# The authentication flow will generate a token which you will need to provide in a pop-up box.\n",
    "# The token will be saved and valid for a week.\n",
    "ee.Authenticate()"
   ]
  },
  {
   "cell_type": "code",
   "execution_count": null,
   "metadata": {},
   "outputs": [],
   "source": [
    "# Initialize your project, using the project ID you took note of during\n",
    "# the creation of your Google Earth Engine Project\n",
    "projectID = 'ee-hkvdeveloper'\n",
    "ee.Initialize(project=projectID)"
   ]
  },
  {
   "cell_type": "markdown",
   "metadata": {},
   "source": [
    "Now that you are authenticated and have initialized your project we are able to use Google Earth Engine API."
   ]
  },
  {
   "cell_type": "markdown",
   "metadata": {},
   "source": [
    "## You can now start the workshops in the scripts:\n",
    "- 2_extreme_value_analysis.ipynb\n",
    "- 3_onset_rainy_season.ipynb"
   ]
  },
  {
   "cell_type": "markdown",
   "metadata": {},
   "source": [
    "## Examples of geemap and Google Earth Engine API"
   ]
  },
  {
   "cell_type": "markdown",
   "metadata": {},
   "source": [
    "### Subset and visualize data"
   ]
  },
  {
   "cell_type": "code",
   "execution_count": 37,
   "metadata": {},
   "outputs": [
    {
     "data": {
      "text/html": [
       "\n",
       "            <style>\n",
       "                .geemap-dark {\n",
       "                    --jp-widgets-color: white;\n",
       "                    --jp-widgets-label-color: white;\n",
       "                    --jp-ui-font-color1: white;\n",
       "                    --jp-layout-color2: #454545;\n",
       "                    background-color: #383838;\n",
       "                }\n",
       "                    \n",
       "                .geemap-dark .jupyter-button {\n",
       "                    --jp-layout-color3: #383838;\n",
       "                }\n",
       "                \n",
       "                .geemap-colab {\n",
       "                    background-color: var(--colab-primary-surface-color, white);\n",
       "                }\n",
       "                    \n",
       "                .geemap-colab .jupyter-button {\n",
       "                    --jp-layout-color3: var(--colab-primary-surface-color, white);\n",
       "                }\n",
       "            </style>\n",
       "            "
      ],
      "text/plain": [
       "<IPython.core.display.HTML object>"
      ]
     },
     "metadata": {},
     "output_type": "display_data"
    },
    {
     "data": {
      "application/vnd.jupyter.widget-view+json": {
       "model_id": "44fa4f8e0c04410b8411547187c762e0",
       "version_major": 2,
       "version_minor": 0
      },
      "text/plain": [
       "Map(center=[-18.658919111911636, 35.52956399999995], controls=(WidgetControl(options=['position', 'transparent…"
      ]
     },
     "execution_count": 37,
     "metadata": {},
     "output_type": "execute_result"
    }
   ],
   "source": [
    "# Now that you are authenticated and have initialized your project we are able to use Google Earth Engine API.\n",
    "# For example we can get precipiation from the CHRIPS database using coordinates and display this on a geemap\n",
    "import geemap\n",
    "\n",
    "# The following function creates a bounding box (Region of Interest) based on given Latitude/Longitude\n",
    "# This is handy so we can limit the amount of data we retrieve and display\n",
    "\n",
    "def create_bounding_box(center_lat, center_lon, width, height):\n",
    "    # Calculate half-width and half-height\n",
    "    half_width = width / 2\n",
    "    half_height = height / 2\n",
    "\n",
    "    # Define the bounding box coordinates\n",
    "    bounding_box = [\n",
    "        [center_lon - half_width, center_lat - half_height],  # Lower-left corner\n",
    "        [center_lon - half_width, center_lat + half_height],  # Upper-left corner\n",
    "        [center_lon + half_width, center_lat + half_height],  # Upper-right corner\n",
    "        [center_lon + half_width, center_lat - half_height],  # Lower-right corner\n",
    "        [center_lon - half_width, center_lat - half_height],  # Closing the polygon\n",
    "    ]\n",
    "\n",
    "    return ee.Geometry.Polygon(bounding_box, None, False)\n",
    "\n",
    "# Example: Create a bounding box around a point (e.g., center at [0, 0]) with width and height (based on degrees)\n",
    "center_latitude = -18.665695\n",
    "center_longitude = 35.529564\n",
    "width = 5\n",
    "height = 5\n",
    "\n",
    "# Create the bounding box\n",
    "roi = create_bounding_box(center_latitude, center_longitude, width, height)\n",
    "\n",
    "# Define the time period\n",
    "start_date = '2022-01-01'\n",
    "end_date = '2022-01-10'\n",
    "\n",
    "# Load CHRIPS precipitation dataset\n",
    "chirps = ee.ImageCollection('UCSB-CHG/CHIRPS/DAILY').filterDate(ee.Date(start_date), ee.Date(end_date)).select('precipitation')\n",
    "\n",
    "# Clip the dataset to the region of interest\n",
    "chirps_roi = chirps.map(lambda img: img.clip(roi))\n",
    "\n",
    "# Create a Map and add the precipitation layer\n",
    "Map = geemap.Map()\n",
    "# Center the map based on the region of interest\n",
    "Map.centerObject(roi, 10)\n",
    "# Add the CHIRPS precipitation layer and assign a style\n",
    "Map.addLayer(chirps_roi, {\n",
    "    'min': 0,\n",
    "    'max': 20,\n",
    "    'opacity': 0.5,\n",
    "    'palette': ['white', 'blue']\n",
    "}, 'Mean Precipitation')\n",
    "Map.addLayerControl()\n",
    "Map"
   ]
  },
  {
   "cell_type": "markdown",
   "metadata": {},
   "source": [
    "### Subset using basin shapes and extract data"
   ]
  },
  {
   "cell_type": "code",
   "execution_count": null,
   "metadata": {},
   "outputs": [
    {
     "data": {
      "text/html": [
       "\n",
       "            <style>\n",
       "                .geemap-dark {\n",
       "                    --jp-widgets-color: white;\n",
       "                    --jp-widgets-label-color: white;\n",
       "                    --jp-ui-font-color1: white;\n",
       "                    --jp-layout-color2: #454545;\n",
       "                    background-color: #383838;\n",
       "                }\n",
       "                    \n",
       "                .geemap-dark .jupyter-button {\n",
       "                    --jp-layout-color3: #383838;\n",
       "                }\n",
       "                \n",
       "                .geemap-colab {\n",
       "                    background-color: var(--colab-primary-surface-color, white);\n",
       "                }\n",
       "                    \n",
       "                .geemap-colab .jupyter-button {\n",
       "                    --jp-layout-color3: var(--colab-primary-surface-color, white);\n",
       "                }\n",
       "            </style>\n",
       "            "
      ],
      "text/plain": [
       "<IPython.core.display.HTML object>"
      ]
     },
     "metadata": {},
     "output_type": "display_data"
    }
   ],
   "source": [
    "# Define the time period\n",
    "start_date = '2022-01-01'\n",
    "end_date = '2022-01-02'\n",
    "\n",
    "# Define Earth Engine datasets used\n",
    "BASINS_ID = 'WWF/HydroSHEDS/v1/Basins/hybas_6'\n",
    "BOUNDARIES_ID = 'FAO/GAUL/2015/level1'\n",
    "CLIMATE_ID = 'UCSB-CHG/CHIRPS/DAILY'\n",
    "\n",
    "# Retrieve the basins\n",
    "basins = ee.FeatureCollection(BASINS_ID)\n",
    "\n",
    "# Filter the boundaries to include only madagascar\n",
    "madagascarBoundaries = ee.FeatureCollection(BOUNDARIES_ID).filter(\n",
    "    'ADM0_NAME == \"Madagascar\"'\n",
    ")\n",
    "\n",
    "# Filter the basins to include only the basins inside the boundaries of madagascar\n",
    "madagascar_basins = basins.filterBounds(madagascarBoundaries)\n",
    "\n",
    "# Load the CHIRPS dataset\n",
    "precipitation = ee.ImageCollection(CLIMATE_ID).filterDate(ee.Date(start_date), ee.Date(end_date)).select('precipitation')\n",
    "\n",
    "# Convert the precipitation image collection to a single multi-band image containing all of the bands of every image in the collection\n",
    "precipitation_bands = ee.Image(precipitation.toBands())\n",
    "\n",
    "# Apply a reducer over the area of each feature in the given collection.\n",
    "madagascar_basins = precipitation_bands.reduceRegions(\n",
    "    collection=madagascar_basins,\n",
    "    reducer=ee.Reducer.sum()\n",
    ")\n",
    "\n",
    "# Convert the reduced basins to a pandas dataframe\n",
    "madagascar_basins_dataframe = ee.data.computeFeatures({\n",
    "    'expression': madagascar_basins,\n",
    "    'fileFormat': 'PANDAS_DATAFRAME'\n",
    "})\n",
    "\n",
    "madagascar_basins_dataframe"
   ]
  },
  {
   "cell_type": "code",
   "execution_count": null,
   "metadata": {},
   "outputs": [],
   "source": []
  }
 ],
 "metadata": {
  "kernelspec": {
   "display_name": "Python 3 (ipykernel)",
   "language": "python",
   "name": "python3"
  },
  "language_info": {
   "codemirror_mode": {
    "name": "ipython",
    "version": 3
   },
   "file_extension": ".py",
   "mimetype": "text/x-python",
   "name": "python",
   "nbconvert_exporter": "python",
   "pygments_lexer": "ipython3",
   "version": "3.12.1"
  }
 },
 "nbformat": 4,
 "nbformat_minor": 4
}
