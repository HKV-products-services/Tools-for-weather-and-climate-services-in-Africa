{
 "cells": [
  {
   "cell_type": "markdown",
   "metadata": {},
   "source": [
    "# Création de tableaux de bord météorologiques en Python\n",
    "\n",
    "<img src=\"data/images/partners.png\" width=\"50%\"/>\n",
    "\n",
    "\n",
    "\n"
   ]
  },
  {
   "cell_type": "markdown",
   "metadata": {},
   "source": [
    "\n",
    "Bienvenue à la formation technique sur l'intégration de données dans les prévisions saisonnières, réalisée par HKV.\n",
    "\n",
    "### Table des matières\n",
    "\n",
    "1. [Commencer](#section-1)\n",
    "2. [Introduction aux Interfaces de Programmation d'Applications (API)](#section-2)\n",
    "2. [TAHMO API: Données de la station météorologique](#section-3)\n",
    "3. [ Open-Meteo API: Prévisions météorologiques numériques](#section-4)\n",
    "4. [Développement de tableaux de bord avec Solara](#section-5)\n"
   ]
  },
  {
   "cell_type": "markdown",
   "metadata": {},
   "source": [
    "## 1. Commencer <a name=\"section-1\"></a>\n",
    "\n",
    "### 1.1 Introduction au Jupyter Notebook\n",
    "[Jupyter Notebooks](https://jupyter-notebook.readthedocs.io/en/latest/) sont des environnements de calcul interactifs qui vous permettent de créer et de partager des documents contenant du code en direct, des équations, des visualisations et du texte narratif. Ils sont largement utilisés dans le domaine de la science des données, de la recherche et de l'éducation en raison de leur polyvalence et de leur facilité d'utilisation.\n",
    "\n",
    "Les Jupyter Notebooks se composent de cellules qui peuvent contenir du code, du texte ou des visualisations."
   ]
  },
  {
   "cell_type": "markdown",
   "metadata": {},
   "source": [
    "#### Exécuter une cellule :\n",
    "Cliquez sur la cellule ci-dessous, et vous remarquerez une bordure autour d'elle. Pour exécuter le code à l'intérieur de la cellule, appuyez sur **Shift + Entrée** ou utilisez le bouton \"Exécuter\" dans la barre d'outils ci-dessus.\n"
   ]
  },
  {
   "cell_type": "code",
   "execution_count": null,
   "metadata": {},
   "outputs": [],
   "source": [
    "print('Bienvenue à la formation !')"
   ]
  },
  {
   "cell_type": "markdown",
   "metadata": {},
   "source": [
    "#### Enregistrement et Fermeture :"
   ]
  },
  {
   "cell_type": "code",
   "execution_count": null,
   "metadata": {},
   "outputs": [],
   "source": [
    "# Utilisation de variables\n",
    "\n",
    "var = \"commençons à coder\"\n",
    "\n",
    "print(var)"
   ]
  },
  {
   "cell_type": "markdown",
   "metadata": {},
   "source": [
    "#### Définir une fonction en Python"
   ]
  },
  {
   "cell_type": "code",
   "execution_count": null,
   "metadata": {},
   "outputs": [],
   "source": [
    "def add(a,b):\n",
    "    return a+b\n",
    "\n",
    "print(add(1,2))"
   ]
  },
  {
   "cell_type": "markdown",
   "metadata": {},
   "source": [
    "#### Enregistrement et Fermeture :\n",
    "N'oubliez pas de sauvegarder votre travail en utilisant **Ctrl + S**. Vous pouvez fermer le notebook une fois que vous avez terminé, et les modifications seront enregistrées."
   ]
  },
  {
   "cell_type": "markdown",
   "metadata": {},
   "source": [
    "## 2.  Introduction aux Interfaces de Programmation d'Applications (API)\n",
    "\n",
    "\n",
    "### 2.1 REST APIs\n",
    "\n",
    "\n",
    "Une API (Interface de Programmation d'Application) est un protocole qui définit comment les systèmes peuvent communiquer entre eux. Une API REST est construite en suivant les principes de conception de Representational State Transfer (REST). REST est très flexible et, par conséquent, on le retrouve partout sur Internet. Il utilise les protocoles HTTP standard, qui sont :\n",
    "\n",
    "\n",
    "<img src=\"data/images/api.png\" width=\"50%\"/>\n",
    "\n",
    "\n",
    "- **GET**: Récupérer des données à partir d'une ressource spécifiée.\n",
    "\n",
    "- **POST**: Créer une nouvelle ressource.\n",
    "\n",
    "- **PUT**: Mettre à jour une ressource existante.\n",
    "\n",
    "- **DELETE**: Supprimer une ressource.\n",
    "\n",
    "\n",
    "Une API a besoin d'un point d'accès, qui est une URL spécifique vers laquelle l'API envoie des requêtes et à partir de laquelle elle reçoit des réponses. En termes simples, un point d'accès API est un itinéraire ou un chemin désigné sur un serveur que l'API utilise pour effectuer une fonction particulière. Chaque point d'accès représente une opération ou une ressource spécifique dans l'API.\n"
   ]
  },
  {
   "cell_type": "code",
   "execution_count": null,
   "metadata": {},
   "outputs": [],
   "source": [
    "import requests\n",
    "\n",
    "url = 'https://www.google.com'\n",
    "\n",
    "r = requests.get(url)\n",
    "\n",
    "print(r.status_code)\n"
   ]
  },
  {
   "cell_type": "markdown",
   "metadata": {},
   "source": [
    "Lorsqu'une requête échoue ou est réussie, un code d'état HTTP est renvoyé. Voici une liste de codes d'état qui fournissent des informations sur l'état de la requête :\n",
    "\n",
    "- **200**: OK\n",
    "La requête a réussi.\n",
    "\n",
    "- **400**: Requête incorrecte\n",
    "La requête ne peut pas être exécutée en raison d'une syntaxe incorrecte ou de paramètres invalides.\n",
    "\n",
    "- **401**: Non autorisé\n",
    "L'authentification est requise, et les informations d'identification fournies sont invalides.\n",
    "\n",
    "- **403**: Interdit\n",
    "Le serveur a compris la requête, mais refuse de l'autoriser.\n",
    "\n",
    "- **404**: Non trouvé\n",
    "La ressource demandée n'a pas pu être trouvée sur le serveur.\n",
    "\n",
    "- **500**: Erreur interne du serveur\n",
    "Une erreur interne du serveur s'est produite.\n"
   ]
  },
  {
   "cell_type": "code",
   "execution_count": null,
   "metadata": {},
   "outputs": [],
   "source": [
    "# Définir un dictionnaire 'params' avec des paires clé-valeur à inclure dans les paramètres de la requête\n",
    "params = {\"key1\": \"value1\", \"key2\": \"value2\"}\n",
    "\n",
    "# Définir un dictionnaire 'headers' pour inclure des en-têtes supplémentaires dans la requête GET\n",
    "headers = {\"user-name\": \"password123\"}\n",
    "\n",
    "# Utiliser la méthode 'request.get()' pour effectuer une requête GET vers l'URL spécifiée 'https://httpbin.org/get'\n",
    "# Inclure les 'params' et 'headers' définis dans la requête\n",
    "r = requests.get('https://httpbin.org/get', params=params, headers=headers)\n",
    "\n",
    "print(r.url)"
   ]
  },
  {
   "cell_type": "markdown",
   "metadata": {},
   "source": [
    "## 3. TAHMO station API <a name=\"section-2\"></a>\n",
    "\n",
    "Dans cette section, nous utiliserons le point d'accès de l'API TAHMO et récupérerons des données pour diverses variables. Nous créerons une visualisation interactive des précipitations mesurées tout au long de cette année à l'une des stations. L'Observatoire Hydro-Météorologique Trans-Africain (TAHMO) gère un réseau de stations météorologiques à travers l'Afrique. Les données de ces stations peuvent être récupérées à l'aide de l'API. Nous pouvons utiliser le client API-V2 qui se trouve sur la page GitHub de TAHMO (https://github.com/TAHMO/API-V2-Python-examples)."
   ]
  },
  {
   "cell_type": "code",
   "execution_count": null,
   "metadata": {},
   "outputs": [],
   "source": [
    "\n",
    "# Regardez autour sur le site web de TAHMO.\n",
    "\n",
    "from IPython.display import IFrame\n",
    "IFrame(\"https://tahmo.org/\", '75%',400)"
   ]
  },
  {
   "cell_type": "code",
   "execution_count": null,
   "metadata": {},
   "outputs": [],
   "source": [
    "# Importez le module TAHMO. \n",
    "import TAHMO\n",
    "\n",
    "# Les informations d'identification de démonstration répertoriées ci-dessous vous donnent accès à trois stations pré-définies. \n",
    "api = TAHMO.apiWrapper()\n",
    "\n",
    "# Configurez les informations \n",
    "api.setCredentials('demo', 'DemoPassword1!')"
   ]
  },
  {
   "cell_type": "markdown",
   "metadata": {},
   "source": [
    "Dans la cellule ci-dessous, nous pouvons répertorier toutes les stations TAHMO auxquelles nous avons accès. Nous pouvons également répertorier toutes les variables enregistrées par les stations météorologiques."
   ]
  },
  {
   "cell_type": "code",
   "execution_count": null,
   "metadata": {},
   "outputs": [],
   "source": [
    "# Listez les autres stations disponibles. \n",
    "stations = api.getStations()\n",
    "print('Le compte a accès aux stations : %s' % ', '.join(list(stations)))"
   ]
  },
  {
   "cell_type": "code",
   "execution_count": null,
   "metadata": {},
   "outputs": [],
   "source": [
    "list(stations)"
   ]
  },
  {
   "cell_type": "markdown",
   "metadata": {},
   "source": [
    "### 3.2 Variables"
   ]
  },
  {
   "cell_type": "code",
   "execution_count": null,
   "metadata": {},
   "outputs": [],
   "source": [
    "# list available variables\n",
    "\n",
    "variables = api.getVariables()\n",
    "\n",
    "for variable in variables:\n",
    "    print(f'{variables[variable][\"description\"]} {variables[variable][\"units\"]} avec le code court \"{variables[variable][\"shortcode\"]}\"')"
   ]
  },
  {
   "cell_type": "markdown",
   "metadata": {},
   "source": [
    "Prenons l'une des stations et récupérons le nom des stations météorologiques ainsi que les coordonnées géographiques de la station :"
   ]
  },
  {
   "cell_type": "code",
   "execution_count": null,
   "metadata": {},
   "outputs": [],
   "source": [
    "# choose a station\n",
    "station = 'TA00567'\n",
    "\n",
    "# get the data\n",
    "station_data = api.getStations()[station]\n",
    "\n",
    "print()\n",
    "print( f\"Nom de la station =  {station_data['location']['name']}\")\n",
    "print( f\"Longitude =  {station_data['location']['longitude']:.02f}\")\n",
    "print( f\"Latitude =  {station_data['location']['latitude']:.02f}\")"
   ]
  },
  {
   "cell_type": "markdown",
   "metadata": {},
   "source": [
    "### 3.2\tRetrieve and plot daily precipitation data"
   ]
  },
  {
   "cell_type": "code",
   "execution_count": null,
   "metadata": {},
   "outputs": [],
   "source": [
    "\n",
    "startDate = '2023-01-01'\n",
    "endDate = '2023-11-22'\n",
    "variables = ['pr']\n",
    "\n",
    "df_tahmo = api.getMeasurements(station, startDate=startDate, endDate=endDate, variables=variables)\n",
    "df_tahmo.index.name = 'Timestamp'\n",
    "\n",
    "df_tahmo.head()\n"
   ]
  },
  {
   "cell_type": "code",
   "execution_count": null,
   "metadata": {},
   "outputs": [],
   "source": [
    "import pandas as pd\n",
    "\n",
    "def process_tahmo_precip_data(df):\n",
    "    \"\"\"Chargez les données de précipitations depuis l'API TAHMO et renvoyez un DataFrame pandas.\"\"\"\n",
    "    df = df.reset_index().rename(columns={\"Timestamp\" : \"date\", \"pr\": \"precipitation\"})\n",
    "    df['date'] = pd.to_datetime(df['date'])\n",
    "    df.loc[:,'date'] = df['date'].dt.date\n",
    "    df = df.groupby('date').sum().reset_index().dropna()\n",
    "    df['date'] = pd.to_datetime(df['date'])\n",
    "    return df\n",
    "\n",
    "df_tahmo = process_tahmo_precip_data(df_tahmo)\n",
    "df_tahmo.head()\n",
    "\n"
   ]
  },
  {
   "cell_type": "markdown",
   "metadata": {},
   "source": [
    "[Vega-Altair](https://altair-viz.github.io/) est une pratique bibliothèque Python qui vous permet de créer des visualisations statistiques en utilisant des principes déclaratifs sans code de programmation complexe. Il offre une manière simple de générer rapidement différents types de graphiques.\n",
    "\n",
    "Altair est construit sur [Vega-Lite](https://vega.github.io/vega-lite/), qui est une grammaire des graphiques interactifs. Vega-Altair propose une manière conviviale de l'utiliser via Python, en stockant les spécifications graphiques au format JSON (JavaScript Object Notation). Vous pouvez directement visualiser ces spécifications dans n'importe quel navigateur web, et le codage est facile dans JupyterLab, Jupyter Notebook, Microsoft VS-Code et Google Colab."
   ]
  },
  {
   "cell_type": "code",
   "execution_count": null,
   "metadata": {},
   "outputs": [],
   "source": [
    "import altair as alt\n",
    "\n",
    "timeseries_tahmo =  alt.Chart(df_tahmo).mark_bar().encode(x=\"date\", y=\"precipitation\", tooltip=['precipitation', 'date']).properties(width=1200, height=200).interactive()\n",
    "timeseries_tahmo"
   ]
  },
  {
   "cell_type": "markdown",
   "metadata": {},
   "source": [
    "### Exercise:\n",
    "\n",
    "essayez de récupérer les données d'une autre variable, la température mesurée à l'une des stations TAHMO, et visualisez cela à l'aide d'un graphique avec une marque de ligne :\n",
    "```python\n",
    "alt.Chart(df).mark_line()\n",
    "```"
   ]
  },
  {
   "cell_type": "code",
   "execution_count": null,
   "metadata": {},
   "outputs": [],
   "source": [
    "startDate = '2023-01-01'\n",
    "endDate = '2023-11-22'\n",
    "variables = ['te']\n",
    "\n",
    "df_tahmo = api.getMeasurements(station, startDate=startDate, endDate=endDate, variables=variables)\n",
    "df_tahmo.index.name = 'Timestamp'\n",
    "\n",
    "def process_tahmo_temp_data(df):\n",
    "    \"\"\"Load the precipitation data from the TAHMO API and return a pandas dataframe\"\"\"\n",
    "    df = df.reset_index().rename(columns={\"Timestamp\" : \"date\", \"te\": \"temperature\"})\n",
    "    df['date'] = pd.to_datetime(df['date'])\n",
    "    df.loc[:,'date'] = df['date'].dt.date\n",
    "    df = df.groupby('date').mean().reset_index().dropna()\n",
    "    df['date'] = pd.to_datetime(df['date'])\n",
    "    return df\n",
    "\n",
    "\n",
    "# make an api call to get the data\n",
    "df_tahmo = process_tahmo_temp_data(df_tahmo)\n",
    "df_tahmo.head()\n",
    "\n",
    "# plot the data\n",
    "\n",
    "timeseries_tahmo =  alt.Chart(df_tahmo).mark_line().encode(x=\"date\", y=\"temperature\", tooltip=['temperature', 'date']).properties(width=1200, height=200).interactive()\n",
    "timeseries_tahmo"
   ]
  },
  {
   "cell_type": "markdown",
   "metadata": {},
   "source": [
    "## 4. Open-Meteo API: Prévisions météorologiques numériques <a name=\"section-4\"></a>\n",
    "\n",
    "[Open-Meteo](https://github.com/open-meteo/open-meteo) est une API météorologique open source qui offre un accès gratuit à des fins non commerciales. Elle comprend des prévisions horaires jusqu'à 16 jours, ainsi que des données météorologiques historiques. Consultez le site web ci-dessous pour plus de détails :\n"
   ]
  },
  {
   "cell_type": "code",
   "execution_count": null,
   "metadata": {},
   "outputs": [],
   "source": [
    "from IPython.display import IFrame\n",
    "IFrame(\"https://open-meteo.com/\", \"75%\", 400)"
   ]
  },
  {
   "cell_type": "code",
   "execution_count": null,
   "metadata": {},
   "outputs": [],
   "source": [
    "import requests\n",
    "\n",
    "\n",
    "def get_ecmwf_precipitation_forecast(lon, lat):\n",
    "    \"\"\"Retrieve the ECMWF precipitation forecast from the Open-Meteo API and return a JSON object\"\"\"\n",
    "\n",
    "    base_url = \"https://api.open-meteo.com/v1/forecast\"\n",
    "    \n",
    "    # Specify the parameters for the ECMWF precipitation forecast\n",
    "    params = {\n",
    "        \"longitude\" : lon,\n",
    "        \"latitude\" : lat,\n",
    "        \"daily\" : \"precipitation_sum\",\n",
    "        \"past_days\" : 90,\n",
    "        \"timezone\" : \"auto\",\n",
    "        \"hourly\" : \"precipitation\",\n",
    "        \"start\" : \"current\",\n",
    "        \"forecast_days\" : 15,\n",
    "        \"models\" : \"ecmwf_ifs04\"}\n",
    "\n",
    "    try:\n",
    "        # Make a request to the Open-Meteo API\n",
    "        response = requests.get(base_url, params=params)\n",
    "        data = response.json()\n",
    "        return data\n",
    "    except requests.RequestException as e:\n",
    "        print(f\"Error: {e}\")\n",
    "\n",
    "data_ecmwf = get_ecmwf_precipitation_forecast(lon=station_data['location']['longitude'], lat=station_data['location']['latitude'])\n",
    "\n"
   ]
  },
  {
   "cell_type": "code",
   "execution_count": null,
   "metadata": {},
   "outputs": [],
   "source": [
    "def process_ecmwf_precip_data(data):\n",
    "    \"\"\"Load the precipitation data from the Open-Meteo API and return a pandas dataframe\"\"\"\n",
    "    df = pd.DataFrame.from_dict(data['hourly'])\n",
    "    df['time'] = pd.to_datetime(df['time'])\n",
    "    df.loc[:,'date'] = df['time'].dt.date\n",
    "    df['date'] = pd.to_datetime(df['date'])\n",
    "    df = df[['date', 'precipitation']].dropna()\n",
    "    df = df.groupby('date').sum().reset_index()# .set_index('date')\n",
    "    return df\n",
    "\n",
    "df_ecmwf = process_ecmwf_precip_data(data_ecmwf)\n",
    "df_ecmwf.head()"
   ]
  },
  {
   "cell_type": "code",
   "execution_count": null,
   "metadata": {},
   "outputs": [],
   "source": [
    "import datetime\n",
    "\n",
    "timeseries_ecmwf =  alt.Chart(df_ecmwf).mark_bar(color='orange').encode(x=\"date\", y=\"precipitation\", tooltip=['precipitation', 'date'])\n",
    "\n",
    "rule = alt.Chart(pd.DataFrame({\n",
    "  'date': [datetime.datetime.now().strftime(\"%Y-%m-%d\")],\n",
    "  'color': ['black']\n",
    "})).mark_rule().encode(x='date:T') \n",
    "\n",
    "chart  = rule + timeseries_ecmwf \n",
    "\n",
    "chart.properties(width=1200, height=300).interactive()"
   ]
  },
  {
   "cell_type": "code",
   "execution_count": null,
   "metadata": {},
   "outputs": [],
   "source": [
    "import openmeteo_requests\n",
    "from openmeteo_sdk.Variable import Variable\n",
    "from openmeteo_sdk.Aggregation import Aggregation\n",
    "import requests_cache\n",
    "import pandas as pd\n",
    "from retry_requests import retry\n",
    "\n",
    "# Setup the Open-Meteo API client with cache and retry on error\n",
    "cache_session = requests_cache.CachedSession('.cache', expire_after = 3600)\n",
    "retry_session = retry(cache_session, retries = 5, backoff_factor = 0.2)\n",
    "openmeteo = openmeteo_requests.Client(session = retry_session)\n",
    "\n",
    "def get_ecmwf_precipitation_ensemble(lon, lat):\n",
    "\n",
    "\t\"\"\"Retrieve the ECMWF precipitation forecast from the Open-Meteo API and return a JSON object\"\"\"\n",
    "\t\n",
    "\turl = \"https://ensemble-api.open-meteo.com/v1/ensemble\"\n",
    "\t\n",
    "\tparams = {\n",
    "\t\t\"latitude\": lat,\n",
    "\t\t\"longitude\": lon,\n",
    "\t\t\"forecast_days\": 5,\n",
    "\t\t\"past_days\": 30,\n",
    "\t\t\"hourly\": \"precipitation\",\n",
    "\t\t\"models\": \"ecmwf_ifs04\"\n",
    "\t}\n",
    "\tresponses = openmeteo.weather_api(url, params=params)\n",
    "\n",
    "\tresponse = responses[0]\n",
    "\t\n",
    "\t# Process hourly data\n",
    "\thourly = response.Hourly()\n",
    "\thourly_variables = list(map(lambda i: hourly.Variables(i), range(0, hourly.VariablesLength())))\n",
    "\thourly_precipitation = filter(lambda x: x.Variable() == Variable.precipitation, hourly_variables)\n",
    "\n",
    "\thourly_data = {\"date\": pd.date_range(\n",
    "\t\tstart = pd.to_datetime(hourly.Time(), unit = \"s\"),\n",
    "\t\tend = pd.to_datetime(hourly.TimeEnd(), unit = \"s\"),\n",
    "\t\tfreq = pd.Timedelta(seconds = hourly.Interval()),\n",
    "\t\tinclusive = \"left\"\n",
    "\t)}\n",
    "\t# Process all members\n",
    "\tfor variable in hourly_precipitation:\n",
    "\t\tmember = variable.EnsembleMember()\n",
    "\t\thourly_data[f\"precipitation_member{member}\"] = variable.ValuesAsNumpy()\n",
    "\n",
    "\tdf = pd.DataFrame(data=hourly_data)\n",
    "\treturn df\n",
    "\n",
    "df_hourly = get_ecmwf_precipitation_ensemble(station_data['location']['longitude'], station_data['location']['latitude'])\n"
   ]
  },
  {
   "cell_type": "code",
   "execution_count": null,
   "metadata": {},
   "outputs": [],
   "source": [
    "def process_ecmwf_ensemble_precip_data(df):\n",
    "    \"\"\"Load the precipitation data from the Open-Meteo API and return a pandas dataframe\"\"\"\n",
    "    df = df.rename(columns={\"date\": \"Timestamp\"})\n",
    "    df['Timestamp'] = pd.to_datetime(df['Timestamp'])\n",
    "    df.loc[:,'date'] = df['Timestamp'].dt.date\n",
    "    df['date'] = pd.to_datetime(df['date'])\n",
    "    df = df.drop(columns=['Timestamp'])\n",
    "    df = df.groupby('date').sum().reset_index()\n",
    "    \n",
    "    return df\n",
    "\n",
    "df_ecmwf_ensemble = process_ecmwf_ensemble_precip_data(df_hourly)\n"
   ]
  },
  {
   "cell_type": "code",
   "execution_count": null,
   "metadata": {},
   "outputs": [],
   "source": [
    "\n",
    "ensemble_df = pd.DataFrame(data={'min' : df_ecmwf_ensemble.set_index('date').min(axis=1), 'max' : df_ecmwf_ensemble.set_index('date').max(axis=1), 'mean' : df_ecmwf_ensemble.set_index('date').mean(axis=1)}).reset_index()\n",
    "\n",
    "area = alt.Chart(ensemble_df).mark_area(opacity=0.25, color='orange').encode(x='date', y='min', y2='max').properties(width=1200, height=300).interactive()\n",
    "\n",
    "bar = alt.Chart(ensemble_df).mark_bar(color='orange').encode(x='date', y='mean', tooltip=['mean', 'date'])\n",
    "\n",
    "\n",
    "rule = alt.Chart(pd.DataFrame({\n",
    "  'date': [datetime.datetime.now().strftime(\"%Y-%m-%d\")],\n",
    "  'color': ['black']\n",
    "})).mark_rule().encode(x='date:T') \n",
    "\n",
    "\n",
    "\n",
    "chart = area + rule + bar\n",
    "chart.properties(width=1200, height=300).interactive()\n"
   ]
  },
  {
   "cell_type": "markdown",
   "metadata": {},
   "source": [
    "## 5. Développement de tableaux de bord avec Solara <a name=\"section-5\"></a>\n",
    "\n",
    "[Solara](https://solara.dev/) is a python library for data-focused web apps which you can run in a Jupyter notebook as well as in production-grade web frameworks (FastAPI, Starlette, Flask, ...). It uses IPywidgets for UI components which saves you from having to learn Javascript and CSS. "
   ]
  },
  {
   "cell_type": "code",
   "execution_count": null,
   "metadata": {},
   "outputs": [],
   "source": [
    "station_list = [\"TA00134\", \"TA00252\", \"TA00567\"]\n",
    "\n",
    "# station \"TA00134\" is empty, therefore we remove it from the list\n",
    "station_list.remove(\"TA00134\")\n",
    "\n",
    "station_data = {}\n",
    "\n",
    "for station in station_list:\n",
    "    station_data[station] = api.getStations()[station]"
   ]
  },
  {
   "cell_type": "code",
   "execution_count": null,
   "metadata": {},
   "outputs": [],
   "source": [
    "import solara\n",
    "import ipyleaflet\n",
    "import TAHMO\n",
    "from ipywidgets import HTML\n",
    "\n",
    "# Créez un wrapper pour l'API TAHMO et configurez les informations d'identification.\n",
    "api = TAHMO.apiWrapper()\n",
    "api.setCredentials('demo', 'DemoPassword1!')\n",
    "\n",
    "station_default = 'TA00252'\n",
    "center_default = (station_data[station_default]['location']['latitude'], station_data[station_default]['location']['longitude'])\n",
    "zoom_default = 9\n",
    "\n",
    "# Définir des variables réactives pour les données de la station.\n",
    "station = solara.reactive(station_default)\n",
    "zoom = solara.reactive(zoom_default)\n",
    "center = solara.reactive(center_default)\n",
    "\n",
    "def set_station(value):\n",
    "    station.value = value\n",
    "    center.value = (station_data[value]['location']['latitude'], station_data[value]['location']['longitude'])\n",
    "\n",
    "@ solara.component\n",
    "def StationSelect():\n",
    "    \"\"\"Solara component for a station selection dropdown.\"\"\"\n",
    "    solara.Select(label=\"station\", values=station_list, value=station.value, on_value=set_station, style={\"z-index\": \"10000\"})\n",
    "    \n",
    "@solara.component\n",
    "def View():\n",
    "    \"\"\"Solara component for displaying a map view with a marker for the selected station.\"\"\"\n",
    "    ipyleaflet.Map.element(center=center.value,\n",
    "                           zoom=9,\n",
    "                           on_center=center.set,\n",
    "                        scroll_wheel_zoom=True, \n",
    "                        layers=[ipyleaflet.TileLayer.element(url=ipyleaflet.basemaps.OpenStreetMap.Mapnik.build_url())] + [ipyleaflet.Marker.element(location=(station_data[s]['location']['latitude'], station_data[s]['location']['longitude']), draggable=False) for s in station_list] \n",
    "                        )\n",
    "\n",
    "@solara.component\n",
    "def Page():\n",
    "    \"\"\"Solara component for a page with two cards: View and StationSelect.\"\"\"\n",
    "    with solara.Column(style={\"min-width\": \"500px\", \"height\": \"500px\"}):\n",
    "        with solara.Row():\n",
    "            StationSelect()\n",
    "        with solara.Card():\n",
    "            View()\n",
    "\n",
    "Page()"
   ]
  },
  {
   "cell_type": "code",
   "execution_count": null,
   "metadata": {},
   "outputs": [],
   "source": [
    "import pandas as pd\n",
    "\n",
    "def set_station(value):\n",
    "    station.value = value\n",
    "    \n",
    "@ solara.component\n",
    "def StationSelect():\n",
    "    \"\"\"Composant Solara pour une liste déroulante de sélection de station.\"\"\"\n",
    "    solara.Select(label=\"station\", values=station_list, value=station.value, on_value=set_station)\n",
    "\n",
    "def request_precip_data(station, variables=['pr'], startDate='2023-01-01', endDate='2023-11-22'):\n",
    "    \"\"\"Demander les données de précipitations de l'API TAHMO et renvoyer un DataFrame pandas.\"\"\"\n",
    "    df = api.getMeasurements(station, startDate=startDate, endDate=endDate, variables=variables)\n",
    "    if df.empty:\n",
    "        df = pd.DataFrame(columns=['date', 'precipitation'])\n",
    "        return df\n",
    "    else:\n",
    "        df.index.name = 'Timestamp'\n",
    "        df = df.reset_index()\n",
    "        df['Timestamp'] = pd.to_datetime(df['Timestamp'])\n",
    "        df.loc[:,'date'] = df['Timestamp'].dt.date\n",
    "        df = df.drop(columns=['Timestamp']).groupby('date').max().reset_index().dropna()\n",
    "        df['date'] = pd.to_datetime(df['date'])\n",
    "        df = df.rename(columns={\"pr\": \"precipitation\"})\n",
    "        return df\n",
    "\n",
    "@solara.component\n",
    "def Timeseries():\n",
    "    \"\"\"Composant Solara pour un graphique de séries temporelles des précipitations.\"\"\"\t\n",
    "    variables = ['pr']\n",
    "    today = datetime.datetime.now()\n",
    "    startDate = today - datetime.timedelta(days=30)\n",
    "    df_tahmo = api.getMeasurements(station.value, startDate=startDate.strftime(\"%Y-%m-%d\"), endDate=today.strftime(\"%Y-%m-%d\"), variables=variables)\n",
    "    df_tahmo.index.name = 'Timestamp'\n",
    "    df_tahmo = process_tahmo_precip_data(df_tahmo)\n",
    "    bar_tahmo =  alt.Chart(df_tahmo).mark_bar(opacity=0.75,).encode(x=\"date\", y=\"precipitation\", tooltip=['precipitation', 'date']).interactive()\n",
    "    df_hourly = get_ecmwf_precipitation_ensemble(station_data[station.value]['location']['longitude'], station_data[station.value]['location']['latitude'])\n",
    "    df_ecmwf_ensemble = process_ecmwf_ensemble_precip_data(df_hourly)\n",
    "    ensemble_df = pd.DataFrame(data={'min' : df_ecmwf_ensemble.set_index('date').min(axis=1), 'max' : df_ecmwf_ensemble.set_index('date').max(axis=1), 'mean' : df_ecmwf_ensemble.set_index('date').mean(axis=1)}).reset_index()\n",
    "    area_ecmwf = alt.Chart(ensemble_df).mark_area(opacity=0.25, color='orange').encode(x='date', y='min', y2='max').interactive()\n",
    "    bar_ecmwf = alt.Chart(ensemble_df).mark_bar(opacity=0.75, color='orange').encode(x='date', y='mean', tooltip=['mean', 'date'])\n",
    "    rule = alt.Chart(pd.DataFrame({'date': [today.strftime(\"%Y-%m-%d\")], 'color': ['black']})).mark_rule().encode(x='date:T') \n",
    "    chart = area_ecmwf + rule + bar_tahmo + bar_ecmwf\n",
    "    solara.display(chart.properties(width=1200, height=300).interactive())\n",
    "\n",
    "@solara.component\n",
    "def Page():\n",
    "    \"\"\"Composant Solara pour une page avec deux cartes : SélectionnerStation et SériesTemporelles.\"\"\"\n",
    "    with solara.Column(style={\"min-width\": \"500px\", \"height\": \"500px\"}):\n",
    "        with solara.Row():\n",
    "            StationSelect()\n",
    "        with solara.Card():\n",
    "            Timeseries()\n",
    "\n",
    "Page()"
   ]
  },
  {
   "cell_type": "code",
   "execution_count": null,
   "metadata": {},
   "outputs": [],
   "source": [
    "import solara\n",
    "import ipyleaflet\n",
    "import TAHMO\n",
    "from ipywidgets import HTML\n",
    "\n",
    "# Créez un wrapper pour l'API TAHMO et configurez les informations d'identification.\n",
    "api = TAHMO.apiWrapper()\n",
    "api.setCredentials('demo', 'DemoPassword1!')\n",
    "\n",
    "\n",
    "station_default = 'TA00252'\n",
    "center_default = (station_data[station_default]['location']['latitude'], station_data[station_default]['location']['longitude'])\n",
    "zoom_default = 9\n",
    "\n",
    "\n",
    "# Définir des variables réactives pour les données de la station.\n",
    "station = solara.reactive(station_default)\n",
    "zoom = solara.reactive(zoom_default)\n",
    "center = solara.reactive(center_default)\n",
    "\n",
    "def set_station(value):\n",
    "    station.value = value\n",
    "    center.value = (station_data[value]['location']['latitude'], station_data[value]['location']['longitude'])\n",
    "\n",
    "@ solara.component\n",
    "def StationSelect():\n",
    "    \"\"\"Composant Solara pour une liste déroulante de sélection de station.\"\"\"\n",
    "    solara.Select(label=\"station\", values=station_list, value=station.value, on_value=set_station, style={\"z-index\": \"10000\"})\n",
    "    \n",
    "@solara.component\n",
    "def View():\n",
    "    \"\"\"Composant Solara pour afficher une vue de carte avec un marqueur pour la station sélectionnée.\"\"\"\n",
    "    \n",
    "    ipyleaflet.Map.element(center=center.value,\n",
    "                           zoom=9,\n",
    "                           on_center=center.set,\n",
    "                        scroll_wheel_zoom=True, \n",
    "                        layers=[ipyleaflet.TileLayer.element(url=ipyleaflet.basemaps.OpenStreetMap.Mapnik.build_url())] + [ipyleaflet.Marker.element(location=(station_data[s]['location']['latitude'], station_data[s]['location']['longitude']), draggable=False) for s in station_list] \n",
    "                        )\n",
    "\n",
    "def request_precip_data(station, variables=['pr'], startDate='2023-01-01', endDate='2023-11-22'):\n",
    "    \"\"\"Demander les données de précipitations de l'API TAHMO et renvoyer un DataFrame pandas.\"\"\"\n",
    "    df = api.getMeasurements(station, startDate=startDate, endDate=endDate, variables=variables)\n",
    "    if df.empty:\n",
    "        df = pd.DataFrame(columns=['date', 'precipitation'])\n",
    "        return df\n",
    "    else:\n",
    "        df.index.name = 'Timestamp'\n",
    "        df = df.reset_index()\n",
    "        df['Timestamp'] = pd.to_datetime(df['Timestamp'])\n",
    "        df.loc[:,'date'] = df['Timestamp'].dt.date\n",
    "        df = df.drop(columns=['Timestamp']).groupby('date').max().reset_index().dropna()\n",
    "        df['date'] = pd.to_datetime(df['date'])\n",
    "        df = df.rename(columns={\"pr\": \"precipitation\"})\n",
    "        return df\n",
    "\n",
    "\n",
    "@solara.component\n",
    "def Timeseries():\n",
    "    \"\"\"Composant Solara pour un graphique de séries temporelles des précipitations.\"\"\"\n",
    "    variables = ['pr']\n",
    "    today = datetime.datetime.now()\n",
    "    startDate = today - datetime.timedelta(days=30)\n",
    "    df_tahmo = api.getMeasurements(station.value, startDate=startDate.strftime(\"%Y-%m-%d\"), endDate=today.strftime(\"%Y-%m-%d\"), variables=variables)\n",
    "    df_tahmo.index.name = 'Timestamp'\n",
    "    df_tahmo = process_tahmo_precip_data(df_tahmo)\n",
    "    bar_tahmo =  alt.Chart(df_tahmo).mark_bar(opacity=0.75,).encode(x=\"date\", y=\"precipitation\", tooltip=['precipitation', 'date']).interactive()\n",
    "    df_hourly = get_ecmwf_precipitation_ensemble(station_data[station.value]['location']['longitude'], station_data[station.value]['location']['latitude'])\n",
    "    df_ecmwf_ensemble = process_ecmwf_ensemble_precip_data(df_hourly)\n",
    "    ensemble_df = pd.DataFrame(data={'min' : df_ecmwf_ensemble.set_index('date').min(axis=1), 'max' : df_ecmwf_ensemble.set_index('date').max(axis=1), 'mean' : df_ecmwf_ensemble.set_index('date').mean(axis=1)}).reset_index()\n",
    "    area_ecmwf = alt.Chart(ensemble_df).mark_area(opacity=0.25, color='orange').encode(x='date', y='min', y2='max').interactive()\n",
    "    bar_ecmwf = alt.Chart(ensemble_df).mark_bar(opacity=0.75, color='orange').encode(x='date', y='mean', tooltip=['mean', 'date'])\n",
    "    rule = alt.Chart(pd.DataFrame({'date': [today.strftime(\"%Y-%m-%d\")], 'color': ['black']})).mark_rule().encode(x='date:T') \n",
    "    chart = area_ecmwf + rule + bar_tahmo + bar_ecmwf\n",
    "    solara.display(chart.properties(width=1200, height=300).interactive())\n",
    "\n",
    "@solara.component\n",
    "def Page():\n",
    "    \"\"\"Solara component for a page with two cards: View and StationSelect.\"\"\"\n",
    "    with solara.Column(style={\"min-width\": \"500px\", \"height\": \"500px\"}):\n",
    "        with solara.Row():\n",
    "            StationSelect()\n",
    "        with solara.Columns([1, 2]):\n",
    "            with solara.Card():\n",
    "                View()\n",
    "            with solara.Card():\n",
    "                Timeseries()\n",
    "\n",
    "Page()"
   ]
  }
 ],
 "metadata": {
  "kernelspec": {
   "display_name": "Python 3.10.4 64-bit",
   "language": "python",
   "name": "python3"
  },
  "language_info": {
   "codemirror_mode": {
    "name": "ipython",
    "version": 3
   },
   "file_extension": ".py",
   "mimetype": "text/x-python",
   "name": "python",
   "nbconvert_exporter": "python",
   "pygments_lexer": "ipython3",
   "version": "3.10.13"
  },
  "vscode": {
   "interpreter": {
    "hash": "3ad933181bd8a04b432d3370b9dc3b0662ad032c4dfaa4e4f1596c548f763858"
   }
  }
 },
 "nbformat": 4,
 "nbformat_minor": 4
}
