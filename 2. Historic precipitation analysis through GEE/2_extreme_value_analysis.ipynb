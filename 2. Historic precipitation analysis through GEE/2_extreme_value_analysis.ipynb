{
 "cells": [
  {
   "cell_type": "markdown",
   "id": "32cd3c21-7729-4674-acc7-d95d69d5599e",
   "metadata": {},
   "source": [
    "## Workshop 1: Extreme Value Statistics based on Annual Daily Precipitation Maxima\n",
    "\n",
    "<img src=\"../images/partners.png\" width=\"50%\"/>\n",
    "\n",
    "\n",
    "The learning objectives of this workshop are to understand:\n",
    "1. The retrieval of precipitation data through the Google Earth Engine API.\n",
    "2. The subsetting of data to a region of interest.\n",
    "3. The processing of precipitation data to annual maxima over the region of interest.\n",
    "4. Fitting of data to a Gumbel distribution for extreme value analysis.\n",
    "5. Creation of the Gumbel plot."
   ]
  },
  {
   "cell_type": "markdown",
   "id": "360cccd7-819a-4444-ba97-2199b26cb11a",
   "metadata": {},
   "source": [
    "#### It is strongly encouraged to change any part of this notebook, for instance the region of interest, time period, data layers."
   ]
  },
  {
   "cell_type": "markdown",
   "id": "beddd21c-27d4-4867-b05a-b641c70b03ac",
   "metadata": {},
   "source": [
    "## Importing Google Earth Engine API\n",
    "See the GEE.ipynb script for more information."
   ]
  },
  {
   "cell_type": "code",
   "execution_count": 1,
   "id": "6e9ed20f-8bdc-4642-979c-238ac572e5b8",
   "metadata": {},
   "outputs": [
    {
     "data": {
      "text/plain": [
       "True"
      ]
     },
     "execution_count": 1,
     "metadata": {},
     "output_type": "execute_result"
    }
   ],
   "source": [
    "import ee\n",
    "ee.Authenticate()"
   ]
  },
  {
   "cell_type": "markdown",
   "id": "9c349b3b-c357-498d-9467-6792ff76c3cc",
   "metadata": {},
   "source": [
    "Authenticate using ee: \n",
    "- This command will open a new window asking you to sign in with your Google Account.\n",
    "- Then you will have to enable permissions for the notebook to access your Google Account.\n",
    "- The authentication flow will generate a token which you will need to provide in a pop-up box.\n",
    "- The token will be saved and valid for a week."
   ]
  },
  {
   "cell_type": "code",
   "execution_count": 1,
   "id": "95125f39-173f-471b-b8ac-5dbbd9cad5bc",
   "metadata": {},
   "outputs": [
    {
     "ename": "NameError",
     "evalue": "name 'ee' is not defined",
     "output_type": "error",
     "traceback": [
      "\u001b[1;31m---------------------------------------------------------------------------\u001b[0m",
      "\u001b[1;31mNameError\u001b[0m                                 Traceback (most recent call last)",
      "Cell \u001b[1;32mIn[1], line 4\u001b[0m\n\u001b[0;32m      1\u001b[0m \u001b[38;5;66;03m# Initialize your project, using the project ID you took note of during\u001b[39;00m\n\u001b[0;32m      2\u001b[0m \u001b[38;5;66;03m# the creation of your Google Earth Engine Project\u001b[39;00m\n\u001b[0;32m      3\u001b[0m projectID \u001b[38;5;241m=\u001b[39m \u001b[38;5;124m'\u001b[39m\u001b[38;5;124mee-hkvdeveloper\u001b[39m\u001b[38;5;124m'\u001b[39m\n\u001b[1;32m----> 4\u001b[0m \u001b[43mee\u001b[49m\u001b[38;5;241m.\u001b[39mInitialize(project\u001b[38;5;241m=\u001b[39mprojectID)\n",
      "\u001b[1;31mNameError\u001b[0m: name 'ee' is not defined"
     ]
    }
   ],
   "source": [
    "# Initialize your project, using the project ID you took note of during\n",
    "# the creation of your Google Earth Engine Project\n",
    "projectID = 'ee-hkvdeveloper'\n",
    "ee.Initialize(project=projectID)"
   ]
  },
  {
   "cell_type": "markdown",
   "id": "debc03ae-b87d-4c0f-b163-d105fdad6d74",
   "metadata": {},
   "source": [
    "Now that you are authenticated and have initialized your project we are able to use Google Earth Engine API."
   ]
  },
  {
   "cell_type": "markdown",
   "id": "c9d4b88c-b689-4e96-8627-3750d9a64122",
   "metadata": {},
   "source": [
    "## Import Python packages"
   ]
  },
  {
   "cell_type": "code",
   "execution_count": 3,
   "id": "df744e89-3f16-44e0-9fcd-0828dc48872b",
   "metadata": {},
   "outputs": [],
   "source": [
    "import geemap\n",
    "import numpy as np\n",
    "import matplotlib.pyplot as plt\n",
    "from scipy.stats import gumbel_r"
   ]
  },
  {
   "cell_type": "markdown",
   "id": "84482251-2b7d-485e-8002-6cecc49662be",
   "metadata": {},
   "source": [
    "If the packages are not already installed, run:\\\n",
    "!pip install earthengine-api geemap numpy matplotlib scipy"
   ]
  },
  {
   "cell_type": "markdown",
   "id": "2440c8c8-0588-4aea-9ca5-dd61fdd20123",
   "metadata": {},
   "source": [
    "## Subsetting the data"
   ]
  },
  {
   "cell_type": "markdown",
   "id": "2a3cf804-7b11-43c2-80eb-51a6ae3d3e43",
   "metadata": {},
   "source": [
    "Here, we define the function that allows use to subset the data to a region of interest."
   ]
  },
  {
   "cell_type": "code",
   "execution_count": 4,
   "id": "2e1e0348-4837-482e-a36e-bbe476ede83d",
   "metadata": {},
   "outputs": [
    {
     "data": {
      "text/html": [
       "\n",
       "            <style>\n",
       "                .geemap-dark {\n",
       "                    --jp-widgets-color: white;\n",
       "                    --jp-widgets-label-color: white;\n",
       "                    --jp-ui-font-color1: white;\n",
       "                    --jp-layout-color2: #454545;\n",
       "                    background-color: #383838;\n",
       "                }\n",
       "                    \n",
       "                .geemap-dark .jupyter-button {\n",
       "                    --jp-layout-color3: #383838;\n",
       "                }\n",
       "                \n",
       "                .geemap-colab {\n",
       "                    background-color: var(--colab-primary-surface-color, white);\n",
       "                }\n",
       "                    \n",
       "                .geemap-colab .jupyter-button {\n",
       "                    --jp-layout-color3: var(--colab-primary-surface-color, white);\n",
       "                }\n",
       "            </style>\n",
       "            "
      ],
      "text/plain": [
       "<IPython.core.display.HTML object>"
      ]
     },
     "metadata": {},
     "output_type": "display_data"
    }
   ],
   "source": [
    "# The following function creates a bounding box (Region of Interest) based on given Latitude/Longitude\n",
    "# This is handy so we can limit the amount of data we retrieve and display\n",
    "\n",
    "def create_bounding_box(center_lat, center_lon, width, height):\n",
    "    # Calculate half-width and half-height\n",
    "    half_width = width / 2\n",
    "    half_height = height / 2\n",
    "\n",
    "    # Define the bounding box coordinates\n",
    "    bounding_box = [\n",
    "        [center_lon - half_width, center_lat - half_height],  # Lower-left corner\n",
    "        [center_lon - half_width, center_lat + half_height],  # Upper-left corner\n",
    "        [center_lon + half_width, center_lat + half_height],  # Upper-right corner\n",
    "        [center_lon + half_width, center_lat - half_height],  # Lower-right corner\n",
    "        [center_lon - half_width, center_lat - half_height],  # Closing the polygon\n",
    "    ]\n",
    "\n",
    "    return ee.Geometry.Polygon(bounding_box, None, False)"
   ]
  },
  {
   "cell_type": "markdown",
   "id": "7adcee72-a571-4487-a3ce-7759c751e9bd",
   "metadata": {},
   "source": [
    "### Specify region of interest, time period, precipitation dataset"
   ]
  },
  {
   "cell_type": "markdown",
   "id": "fd8496a6-9e2b-4179-984e-61a58ffa0c2b",
   "metadata": {},
   "source": [
    "Now, we specify the parameters of interest for subsetting the data."
   ]
  },
  {
   "cell_type": "code",
   "execution_count": 6,
   "id": "2a9877fe-a2d8-418f-89b9-20cbd74083bb",
   "metadata": {},
   "outputs": [
    {
     "data": {
      "text/html": [
       "\n",
       "            <style>\n",
       "                .geemap-dark {\n",
       "                    --jp-widgets-color: white;\n",
       "                    --jp-widgets-label-color: white;\n",
       "                    --jp-ui-font-color1: white;\n",
       "                    --jp-layout-color2: #454545;\n",
       "                    background-color: #383838;\n",
       "                }\n",
       "                    \n",
       "                .geemap-dark .jupyter-button {\n",
       "                    --jp-layout-color3: #383838;\n",
       "                }\n",
       "                \n",
       "                .geemap-colab {\n",
       "                    background-color: var(--colab-primary-surface-color, white);\n",
       "                }\n",
       "                    \n",
       "                .geemap-colab .jupyter-button {\n",
       "                    --jp-layout-color3: var(--colab-primary-surface-color, white);\n",
       "                }\n",
       "            </style>\n",
       "            "
      ],
      "text/plain": [
       "<IPython.core.display.HTML object>"
      ]
     },
     "metadata": {},
     "output_type": "display_data"
    }
   ],
   "source": [
    "# Feel free to change to another region of interest (roi)\n",
    "center_latitude = -18.665695\n",
    "center_longitude = 35.529564\n",
    "width = 5 # in degrees\n",
    "height = 5 # in degrees\n",
    "\n",
    "# Note that the bounding box can also be created using min/max latlons\n",
    "\n",
    "# Create the bounding box\n",
    "roi = create_bounding_box(center_latitude, center_longitude, width, height)\n",
    "\n",
    "# Define the time period\n",
    "start_year = 1991\n",
    "end_year = 2021\n",
    "\n",
    "# Load CHRIPS precipitation dataset\n",
    "# Feel free to change to another dataset\n",
    "chirps = ee.ImageCollection('UCSB-CHG/CHIRPS/DAILY').filterDate(ee.Date(start_year), ee.Date(end_year)).select('precipitation')\n",
    "\n",
    "# Clip the dataset to the region of interest\n",
    "chirps_roi = chirps.map(lambda img: img.clip(roi))"
   ]
  },
  {
   "cell_type": "markdown",
   "id": "47df254e-7c67-40e7-b9e9-4005e4761620",
   "metadata": {},
   "source": [
    "## Visualize the data"
   ]
  },
  {
   "cell_type": "markdown",
   "id": "5054e7be-8848-4039-990a-abb63d6990e3",
   "metadata": {},
   "source": [
    "First, we visualize the dataset using the geemap package. It is recommended to perform a visualization step before subsetting the data. "
   ]
  },
  {
   "cell_type": "code",
   "execution_count": 7,
   "id": "b1e3d084-7303-460f-a4de-7cd44cababa5",
   "metadata": {},
   "outputs": [
    {
     "data": {
      "text/html": [
       "\n",
       "            <style>\n",
       "                .geemap-dark {\n",
       "                    --jp-widgets-color: white;\n",
       "                    --jp-widgets-label-color: white;\n",
       "                    --jp-ui-font-color1: white;\n",
       "                    --jp-layout-color2: #454545;\n",
       "                    background-color: #383838;\n",
       "                }\n",
       "                    \n",
       "                .geemap-dark .jupyter-button {\n",
       "                    --jp-layout-color3: #383838;\n",
       "                }\n",
       "                \n",
       "                .geemap-colab {\n",
       "                    background-color: var(--colab-primary-surface-color, white);\n",
       "                }\n",
       "                    \n",
       "                .geemap-colab .jupyter-button {\n",
       "                    --jp-layout-color3: var(--colab-primary-surface-color, white);\n",
       "                }\n",
       "            </style>\n",
       "            "
      ],
      "text/plain": [
       "<IPython.core.display.HTML object>"
      ]
     },
     "metadata": {},
     "output_type": "display_data"
    },
    {
     "data": {
      "application/vnd.jupyter.widget-view+json": {
       "model_id": "1773689ae04b4353935de086696629a9",
       "version_major": 2,
       "version_minor": 0
      },
      "text/plain": [
       "Map(center=[-18.658919111911636, 35.52956399999995], controls=(WidgetControl(options=['position', 'transparent…"
      ]
     },
     "execution_count": 7,
     "metadata": {},
     "output_type": "execute_result"
    }
   ],
   "source": [
    "# Create a Map and add the precipitation layer\n",
    "Map = geemap.Map()\n",
    "# Center the map based on the region of interest\n",
    "Map.centerObject(roi, 10)\n",
    "# Add the CHIRPS precipitation layer and assign a style\n",
    "Map.addLayer(chirps_roi, {\n",
    "    'min': 0,\n",
    "    'max': 20,\n",
    "    'opacity': 0.5,\n",
    "    'palette': ['white', 'blue']\n",
    "}, 'Mean Precipitation')\n",
    "Map.addLayerControl()\n",
    "Map"
   ]
  },
  {
   "cell_type": "markdown",
   "id": "fd473409-0011-490e-a310-1287fb84cdd5",
   "metadata": {},
   "source": [
    "The map shows that we selected the region of interest from the CHIRPS dataset."
   ]
  },
  {
   "cell_type": "markdown",
   "id": "fba63ae3-7c96-4fd6-a175-401145e80694",
   "metadata": {},
   "source": [
    "## Retrieve and Process CHIRPS Precipitation Data\n",
    "Here, we combine the previous steps to:\n",
    "1. Retrieve CHIRPS data.\n",
    "2. Subset CHIRPS data.\n",
    "3. Calculate annual maximum over region of interest."
   ]
  },
  {
   "cell_type": "code",
   "execution_count": null,
   "id": "fa566190-f9dc-47fe-8cab-26609f5e6311",
   "metadata": {},
   "outputs": [
    {
     "data": {
      "text/html": [
       "\n",
       "            <style>\n",
       "                .geemap-dark {\n",
       "                    --jp-widgets-color: white;\n",
       "                    --jp-widgets-label-color: white;\n",
       "                    --jp-ui-font-color1: white;\n",
       "                    --jp-layout-color2: #454545;\n",
       "                    background-color: #383838;\n",
       "                }\n",
       "                    \n",
       "                .geemap-dark .jupyter-button {\n",
       "                    --jp-layout-color3: #383838;\n",
       "                }\n",
       "                \n",
       "                .geemap-colab {\n",
       "                    background-color: var(--colab-primary-surface-color, white);\n",
       "                }\n",
       "                    \n",
       "                .geemap-colab .jupyter-button {\n",
       "                    --jp-layout-color3: var(--colab-primary-surface-color, white);\n",
       "                }\n",
       "            </style>\n",
       "            "
      ],
      "text/plain": [
       "<IPython.core.display.HTML object>"
      ]
     },
     "metadata": {},
     "output_type": "display_data"
    },
    {
     "name": "stdout",
     "output_type": "stream",
     "text": [
      "Processing year: 1993\r"
     ]
    }
   ],
   "source": [
    "# Loop between start_year and end_year\n",
    "yearly_max = []\n",
    "for year in range(start_year, end_year):  # Example: 1981 to 2020\n",
    "    print(f'Processing year: {year}', end='\\r')\n",
    "\n",
    "    # Specify start_date and end_date per year\n",
    "    start_date = f'{year}-01-01'\n",
    "    end_date = f'{year}-12-31'\n",
    "\n",
    "    # Retrieve CHIRPS data through Google Earth Engine API\n",
    "    chirps = ee.ImageCollection('UCSB-CHG/CHIRPS/DAILY')\\\n",
    "                .filterDate(ee.Date(start_date), ee.Date(end_date))\\\n",
    "                .select('precipitation')\n",
    "    \n",
    "    # Get the maximum value for the year\n",
    "    max_image = chirps.max()\n",
    "\n",
    "    # Reduce the region to the region of interest\n",
    "    max_value = max_image.reduceRegion(ee.Reducer.max(), roi, 1000).get('precipitation').getInfo()\n",
    "\n",
    "    # Append the output to list\n",
    "    yearly_max.append(max_value)"
   ]
  },
  {
   "cell_type": "markdown",
   "id": "74313246-1d17-4e1e-82fc-6870da3ecc5e",
   "metadata": {},
   "source": [
    "The annual daily precipitation maxima are collected and stored in the yearly_max variable."
   ]
  },
  {
   "cell_type": "markdown",
   "id": "a20afc0a-a90e-4be2-81fb-5ab51fac97a4",
   "metadata": {},
   "source": [
    "## Extreme value analysis"
   ]
  },
  {
   "cell_type": "markdown",
   "id": "f4c13fba-794d-46ad-8bdc-f81005e6ac8e",
   "metadata": {},
   "source": [
    "The next step is to calculate the extreme value statistics by fitting adistribution through the annual daily precipitation maxima. We will use the Gumbel distribution, other types of distributions are possible:"
   ]
  },
  {
   "cell_type": "markdown",
   "id": "f044d63d-29d9-47d1-8083-e52ef6119176",
   "metadata": {},
   "source": [
    "![Create a Project](images/extreme_value_analysis.png)\n",
    "Source: Huyse & Thacker, 2004\n"
   ]
  },
  {
   "cell_type": "markdown",
   "id": "ed27eaf8-e828-468a-b170-ab3447c762b1",
   "metadata": {},
   "source": [
    "## Fitting Data to a Gumbel Distribution"
   ]
  },
  {
   "cell_type": "markdown",
   "id": "b34999da-7035-4180-8f29-2d6e7a06e9e3",
   "metadata": {},
   "source": [
    "Here, we fit the Gumbel Distribution through the data."
   ]
  },
  {
   "cell_type": "code",
   "execution_count": null,
   "id": "83fbcde6-a527-4fdc-a4c7-bd2c4e34837a",
   "metadata": {},
   "outputs": [],
   "source": [
    "# Fit the Gumbel distribution to the data\n",
    "params = gumbel_r.fit(yearly_max)\n",
    "location, scale = params"
   ]
  },
  {
   "cell_type": "markdown",
   "id": "fea27f31-348d-4e2a-8a9e-50f950c9fc15",
   "metadata": {},
   "source": [
    "## Visualize results"
   ]
  },
  {
   "cell_type": "markdown",
   "id": "406c44b8-5758-43d0-81b1-e6fc24281e5f",
   "metadata": {},
   "source": [
    "The final step is to visualize the results in the form of a Gumbel plot."
   ]
  },
  {
   "cell_type": "code",
   "execution_count": null,
   "id": "9b32d4b4-1409-40b3-853b-48f9533abf00",
   "metadata": {},
   "outputs": [],
   "source": [
    "# Calculate the CDF for the annual daily maximum precipitation values\n",
    "cdf_values = gumbel_r.cdf(yearly_max, *params)\n",
    "\n",
    "# Calculate return periods from the CDF values\n",
    "return_periods = 1 / (1 - cdf_values)\n",
    "\n",
    "# Sort the data for plotting (important for line plots to make sense)\n",
    "sorted_indices = np.argsort(return_periods)\n",
    "sorted_return_periods = return_periods[sorted_indices]\n",
    "sorted_yearly_max = np.array(yearly_max)[sorted_indices]\n",
    "\n",
    "# Plotting\n",
    "plt.figure(figsize=(8, 6))\n",
    "plt.plot(sorted_return_periods, sorted_yearly_max, marker='o', linestyle='-', color='b')\n",
    "plt.xscale('log')  # Optional: Logarithmic scale can make the plot easier to interpret\n",
    "plt.xlabel('Return Period (years)')\n",
    "plt.ylabel('Annual Daily Maximum Precipitation (mm)')\n",
    "plt.title('Gumbel Plot of Annual Daily Maximum Precipitation')\n",
    "plt.grid(True, which=\"both\", ls=\"--\")\n",
    "plt.show()"
   ]
  },
  {
   "cell_type": "markdown",
   "id": "b4993264-01e4-45c9-895f-7e7587aafe82",
   "metadata": {},
   "source": [
    "## You have sucessfully created an extreme value analysis of the occurence of Annual Daily Maximum Precpitation!"
   ]
  },
  {
   "cell_type": "markdown",
   "id": "9737c261-0554-4e48-ab64-40943bb09c6c",
   "metadata": {},
   "source": [
    "Please try to:\n",
    "- Select different region of interest and compare the results.\n",
    "- Select different precipitation dataset and compare the results.\n",
    "- Extrapolate Gumbel plot for higher Return Periods.\n",
    "- Apply a different fit such as Generalized extreme value distribution (GEV)."
   ]
  },
  {
   "cell_type": "code",
   "execution_count": null,
   "id": "0dccaa06-f50d-483e-b840-c5b6c003846e",
   "metadata": {},
   "outputs": [],
   "source": []
  }
 ],
 "metadata": {
  "kernelspec": {
   "display_name": "Python 3 (ipykernel)",
   "language": "python",
   "name": "python3"
  },
  "language_info": {
   "codemirror_mode": {
    "name": "ipython",
    "version": 3
   },
   "file_extension": ".py",
   "mimetype": "text/x-python",
   "name": "python",
   "nbconvert_exporter": "python",
   "pygments_lexer": "ipython3",
   "version": "3.11.8"
  }
 },
 "nbformat": 4,
 "nbformat_minor": 5
}
