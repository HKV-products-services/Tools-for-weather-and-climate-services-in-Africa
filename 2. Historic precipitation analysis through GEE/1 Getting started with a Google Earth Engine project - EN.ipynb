{
 "cells": [
  {
   "cell_type": "markdown",
   "metadata": {},
   "source": [
    "## Workshop 1: Setting up the Google Earth Engine Project\n",
    "\n",
    "<img src=\"../images/partners.png\" width=\"50%\"/>\n",
    "\n",
    "First we need to create a Google Project with Google Earth Engine enabled, this requires a Google Account.  \n",
    "You can create a free, personal Google Account by visiting <https://earthengine.google.com/>, clicking on 'Get Started' and following the instructions.  \n",
    "After you have logged in you will be greeted with Get Started Using Earth Engine screen:  \n",
    "\n",
    "![Create a Project](images/createProject.png)\n",
    "\n",
    "Click on Register a Noncommercial or Commercial Cloud Project button and follow the instructions.  \n",
    "Take note of the *project ID* and *project name* during the creation of the project.\n"
   ]
  },
  {
   "cell_type": "markdown",
   "metadata": {},
   "source": [
    "# Installing the Google Earth Engine API and importing it in python\n",
    "\n",
    "The next step is to make sure we have the earthengine API installed.  \n",
    "\n",
    "If you are using pip you can issue the following command in a terminal:  \n",
    "    pip install earthengine-api --upgrade  \n",
    "\n",
    "In this notebook we also use the following additional packages:  \n",
    "geemap <https://geemap.org/>  \n",
    "    pip install geemap"
   ]
  },
  {
   "cell_type": "code",
   "execution_count": 1,
   "metadata": {},
   "outputs": [],
   "source": [
    "#!pip install geemap"
   ]
  },
  {
   "cell_type": "markdown",
   "metadata": {},
   "source": [
    "Authenticate using ee: \n",
    "- This command will open a new window asking you to sign in with your Google Account.\n",
    "- Then you will have to enable permissions for the notebook to access your Google Account.\n",
    "- The authentication flow will generate a token which you will need to provide in a pop-up box.\n",
    "- The token will be saved and valid for a week."
   ]
  },
  {
   "cell_type": "code",
   "execution_count": 1,
   "metadata": {},
   "outputs": [
    {
     "data": {
      "text/html": [
       "<p>To authorize access needed by Earth Engine, open the following\n",
       "        URL in a web browser and follow the instructions:</p>\n",
       "        <p><a href=https://code.earthengine.google.com/client-auth?scopes=https%3A//www.googleapis.com/auth/earthengine%20https%3A//www.googleapis.com/auth/cloud-platform%20https%3A//www.googleapis.com/auth/devstorage.full_control&request_id=iefIerbdZjXRFC-uzFixvAXW5Svt-mbyD7t4De79kVQ&tc=t3KRQ5enNb_j09BDJ2gOmoCJVK8B3dSaO7acowXakjw&cc=FsYE8_vWXL7JM3-5--FzH6olqxafCbupXsDUkH_wikY>https://code.earthengine.google.com/client-auth?scopes=https%3A//www.googleapis.com/auth/earthengine%20https%3A//www.googleapis.com/auth/cloud-platform%20https%3A//www.googleapis.com/auth/devstorage.full_control&request_id=iefIerbdZjXRFC-uzFixvAXW5Svt-mbyD7t4De79kVQ&tc=t3KRQ5enNb_j09BDJ2gOmoCJVK8B3dSaO7acowXakjw&cc=FsYE8_vWXL7JM3-5--FzH6olqxafCbupXsDUkH_wikY</a></p>\n",
       "        <p>The authorization workflow will generate a code, which you should paste in the box below.</p>\n",
       "        "
      ],
      "text/plain": [
       "<IPython.core.display.HTML object>"
      ]
     },
     "metadata": {},
     "output_type": "display_data"
    },
    {
     "name": "stdout",
     "output_type": "stream",
     "text": [
      "Enter verification code:  4/1AfJohXlEmrg7OMVPrrdHbMJbIqvDcw2GAYxocrvtRpbz1lZmpLgkaEVTkIk\n"
     ]
    },
    {
     "name": "stdout",
     "output_type": "stream",
     "text": [
      "\n",
      "Successfully saved authorization token.\n"
     ]
    }
   ],
   "source": [
    "# Import the ee API\n",
    "import ee\n",
    "# Authenticate using ee\n",
    "# This command will open a new window asking you to sign in with your Google Account\n",
    "# Then you will have to enable permissions for the notebook to access your Google Account\n",
    "# The authentication flow will generate a token which you will need to provide in a pop-up box.\n",
    "# The token will be saved and valid for a week.\n",
    "ee.Authenticate()"
   ]
  },
  {
   "cell_type": "code",
   "execution_count": 3,
   "metadata": {},
   "outputs": [],
   "source": [
    "# Initialize your project, using the project ID you took note of during\n",
    "# the creation of your Google Earth Engine Project\n",
    "projectID = 'ee-hkvdeveloper'\n",
    "ee.Initialize(project=projectID)"
   ]
  },
  {
   "cell_type": "markdown",
   "metadata": {},
   "source": [
    "Now that you are authenticated and have initialized your project we are able to use Google Earth Engine API."
   ]
  },
  {
   "cell_type": "markdown",
   "metadata": {},
   "source": [
    "## You can now start the workshops in the scripts:\n",
    "- 2 Extreme Value Analysis.ipynb\n",
    "- 3 Estimating the onset of the Rainy Season.ipynb"
   ]
  }
 ],
 "metadata": {
  "kernelspec": {
   "display_name": "Python 3 (ipykernel)",
   "language": "python",
   "name": "python3"
  },
  "language_info": {
   "codemirror_mode": {
    "name": "ipython",
    "version": 3
   },
   "file_extension": ".py",
   "mimetype": "text/x-python",
   "name": "python",
   "nbconvert_exporter": "python",
   "pygments_lexer": "ipython3",
   "version": "3.12.1"
  }
 },
 "nbformat": 4,
 "nbformat_minor": 4
}
