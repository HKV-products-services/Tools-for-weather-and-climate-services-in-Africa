{
 "cells": [
  {
   "cell_type": "markdown",
   "metadata": {},
   "source": [
    "## Atelier 1: Mise en place du projet Google Earth Engine\n",
    "\n",
    "\n",
    "<img src=\"../images/partners.png\" width=\"50%\"/>\n",
    "\n",
    "Tout d'abord, nous devons créer un projet Google avec Google Earth Engine activé, cela nécessite un compte Google.\n",
    "Vous pouvez créer un compte Google gratuit et personnel en visitant https://earthengine.google.com/, en cliquant sur 'Commencer' et en suivant les instructions.\n",
    "Une fois que vous vous êtes connecté, vous serez accueilli par l'écran de démarrage d'utilisation d'Earth Engine :\n",
    "\n",
    "![Create a Project](images/createProject.png)\n",
    "\n",
    "Cliquez sur le bouton Enregistrer un projet Cloud non commercial ou commercial et suivez les instructions.\n",
    "Notez l'identifiant du *project ID* et *project name* lors de la création du projet."
   ]
  },
  {
   "cell_type": "markdown",
   "metadata": {},
   "source": [
    "# Installation de l'API Google Earth Engine et son importation en Python\n",
    "\n",
    "La prochaine étape consiste à s'assurer que l'API Earth Engine est installée.\n",
    "\n",
    "Si vous utilisez pip, vous pouvez exécuter la commande suivante dans un terminal:\n",
    "\n",
    "    pip install earthengine-api --upgrade\n",
    "\n",
    "Dans ce cahier, nous utilisons également les packages supplémentaires suivants:\n",
    "\n",
    "    geemap https://geemap.org/\n",
    "    pip install geemap"
   ]
  },
  {
   "cell_type": "code",
   "execution_count": 1,
   "metadata": {},
   "outputs": [],
   "source": [
    "#!pip install geemap"
   ]
  },
  {
   "cell_type": "markdown",
   "metadata": {},
   "source": [
    "Authentification à l'aide de ee :\n",
    "\n",
    "- Cette commande ouvrira une nouvelle fenêtre vous demandant de vous connecter avec votre compte Google.\n",
    "- Ensuite, vous devrez autoriser les permissions pour le cahier afin d'accéder à votre compte Google.\n",
    "- Le flux d'authentification générera un jeton que vous devrez fournir dans une boîte contextuelle.\n",
    "- Le jeton sera enregistré et sera valide pendant une semaine."
   ]
  },
  {
   "cell_type": "code",
   "execution_count": null,
   "metadata": {},
   "outputs": [
    {
     "ename": "ModuleNotFoundError",
     "evalue": "No module named 'ee'",
     "output_type": "error",
     "traceback": [
      "\u001b[1;31m---------------------------------------------------------------------------\u001b[0m",
      "\u001b[1;31mModuleNotFoundError\u001b[0m                       Traceback (most recent call last)",
      "Cell \u001b[1;32mIn[1], line 2\u001b[0m\n\u001b[0;32m      1\u001b[0m \u001b[38;5;66;03m# Import the ee API\u001b[39;00m\n\u001b[1;32m----> 2\u001b[0m \u001b[38;5;28;01mimport\u001b[39;00m \u001b[38;5;21;01mee\u001b[39;00m\n\u001b[0;32m      3\u001b[0m \u001b[38;5;66;03m# Authenticate using ee\u001b[39;00m\n\u001b[0;32m      4\u001b[0m \u001b[38;5;66;03m# This command will open a new window asking you to sign in with your Google Account\u001b[39;00m\n\u001b[0;32m      5\u001b[0m \u001b[38;5;66;03m# Then you will have to enable permissions for the notebook to access your Google Account\u001b[39;00m\n\u001b[0;32m      6\u001b[0m \u001b[38;5;66;03m# The authentication flow will generate a token which you will need to provide in a pop-up box.\u001b[39;00m\n\u001b[0;32m      7\u001b[0m \u001b[38;5;66;03m# The token will be saved and valid for a week.\u001b[39;00m\n\u001b[0;32m      8\u001b[0m ee\u001b[38;5;241m.\u001b[39mAuthenticate()\n",
      "\u001b[1;31mModuleNotFoundError\u001b[0m: No module named 'ee'"
     ]
    }
   ],
   "source": [
    "# Importer l'API ee\n",
    "\n",
    "import ee\n",
    "# Authentification à l'aide de ee\n",
    "# Cette commande ouvrira une nouvelle fenêtre vous demandant de vous connecter avec votre compte Google\n",
    "# Ensuite, vous devrez autoriser les permissions pour le cahier afin d'accéder à votre compte Google\n",
    "# Le flux d'authentification générera un jeton que vous devrez fournir dans une boîte contextuelle.\n",
    "# Le jeton sera enregistré et sera valide pendant une semaine.\n",
    "\n",
    "ee.Authenticate()"
   ]
  },
  {
   "cell_type": "code",
   "execution_count": 3,
   "metadata": {},
   "outputs": [],
   "source": [
    "# Initialisez votre projet en utilisant l'identifiant de projet que\n",
    "# vous avez pris note lors de la création de votre projet Google Earth Engin\n",
    "projectID = 'ee-hkvdeveloper'\n",
    "ee.Initialize(project=projectID)"
   ]
  },
  {
   "cell_type": "markdown",
   "metadata": {},
   "source": [
    "Maintenant que vous êtes authentifié et avez initialisé votre projet, nous sommes en mesure d'utiliser l'API Google Earth Engine."
   ]
  },
  {
   "cell_type": "markdown",
   "metadata": {},
   "source": [
    "## Vous pouvez maintenant commencer les ateliers dans les scripts :\n",
    "- 2 Analyse des valeurs extrêmes.ipynb\n",
    "- 3 Estimation du début de la saison des pluies.ipynb"
   ]
  }
 ],
 "metadata": {
  "kernelspec": {
   "display_name": "Python 3 (ipykernel)",
   "language": "python",
   "name": "python3"
  },
  "language_info": {
   "codemirror_mode": {
    "name": "ipython",
    "version": 3
   },
   "file_extension": ".py",
   "mimetype": "text/x-python",
   "name": "python",
   "nbconvert_exporter": "python",
   "pygments_lexer": "ipython3",
   "version": "3.12.1"
  }
 },
 "nbformat": 4,
 "nbformat_minor": 4
}
