{
 "cells": [
  {
   "cell_type": "markdown",
   "id": "32cd3c21-7729-4674-acc7-d95d69d5599e",
   "metadata": {},
   "source": [
    "## Atelier 2 : Statistiques des valeurs extrêmes basées sur les maxima journaliers annuels de précipitations\n",
    "\n",
    "<img src=\"../images/partners.png\" width=\"50%\"/>\n",
    "\n",
    "Les objectifs d'apprentissage de cet atelier sont les suivants :\n",
    "\n",
    "1. Comprendre l'extraction des données de précipitations via l'API Google Earth Engine.\n",
    "2. Le découpage des données pour une région d'intérêt.\n",
    "3. Le traitement des données de précipitations pour obtenir les maxima annuels dans la région d'intérêt.\n",
    "4. Ajuster les données à une distribution de Gumbel pour une analyse des valeurs extrêmes.\n",
    "5. Création du graphique de Gumbel."
   ]
  },
  {
   "cell_type": "markdown",
   "id": "360cccd7-819a-4444-ba97-2199b26cb11a",
   "metadata": {},
   "source": [
    "#### Il est fortement encouragé de modifier n'importe quelle partie de ce cahier, par exemple la région d'intérêt, la période de temps, les couches de données."
   ]
  },
  {
   "cell_type": "markdown",
   "id": "beddd21c-27d4-4867-b05a-b641c70b03ac",
   "metadata": {},
   "source": [
    "## Importation de l'API Google Earth Engine\n",
    "Consultez le script \"Mise en place du projet Google Earth Engine.ipynb\" pour plus d'informations."
   ]
  },
  {
   "cell_type": "code",
   "execution_count": 1,
   "id": "6e9ed20f-8bdc-4642-979c-238ac572e5b8",
   "metadata": {},
   "outputs": [
    {
     "data": {
      "text/plain": [
       "True"
      ]
     },
     "execution_count": 1,
     "metadata": {},
     "output_type": "execute_result"
    }
   ],
   "source": [
    "import ee\n",
    "ee.Authenticate()"
   ]
  },
  {
   "cell_type": "markdown",
   "id": "9c349b3b-c357-498d-9467-6792ff76c3cc",
   "metadata": {},
   "source": [
    "Authentification avec ee :\n",
    "\n",
    "- Cette commande ouvrira une nouvelle fenêtre vous demandant de vous connecter avec votre compte Google.\n",
    "- Ensuite, vous devrez autoriser les permissions pour le cahier afin d'accéder à votre compte Google.\n",
    "- Le processus d'authentification générera un jeton que vous devrez fournir dans une boîte pop-up.\n",
    "- Le jeton sera sauvegardé et sera valide pendant une semaine."
   ]
  },
  {
   "cell_type": "code",
   "execution_count": 1,
   "id": "95125f39-173f-471b-b8ac-5dbbd9cad5bc",
   "metadata": {},
   "outputs": [
    {
     "ename": "NameError",
     "evalue": "name 'ee' is not defined",
     "output_type": "error",
     "traceback": [
      "\u001b[1;31m---------------------------------------------------------------------------\u001b[0m",
      "\u001b[1;31mNameError\u001b[0m                                 Traceback (most recent call last)",
      "Cell \u001b[1;32mIn[1], line 4\u001b[0m\n\u001b[0;32m      1\u001b[0m \u001b[38;5;66;03m# Initialize your project, using the project ID you took note of during\u001b[39;00m\n\u001b[0;32m      2\u001b[0m \u001b[38;5;66;03m# the creation of your Google Earth Engine Project\u001b[39;00m\n\u001b[0;32m      3\u001b[0m projectID \u001b[38;5;241m=\u001b[39m \u001b[38;5;124m'\u001b[39m\u001b[38;5;124mee-hkvdeveloper\u001b[39m\u001b[38;5;124m'\u001b[39m\n\u001b[1;32m----> 4\u001b[0m \u001b[43mee\u001b[49m\u001b[38;5;241m.\u001b[39mInitialize(project\u001b[38;5;241m=\u001b[39mprojectID)\n",
      "\u001b[1;31mNameError\u001b[0m: name 'ee' is not defined"
     ]
    }
   ],
   "source": [
    "## Initialisez votre projet en utilisant l'identifiant du projet que vous avez noté lors de\n",
    "## la création de votre projet Google Earth Engine.\n",
    "projectID = 'ee-hkvdeveloper'\n",
    "ee.Initialize(project=projectID)"
   ]
  },
  {
   "cell_type": "markdown",
   "id": "debc03ae-b87d-4c0f-b163-d105fdad6d74",
   "metadata": {},
   "source": [
    "Maintenant que vous êtes authentifié et avez initialisé votre projet, nous sommes en mesure d'utiliser l'API Google Earth Engine."
   ]
  },
  {
   "cell_type": "markdown",
   "id": "c9d4b88c-b689-4e96-8627-3750d9a64122",
   "metadata": {},
   "source": [
    "## Importer les packages Python"
   ]
  },
  {
   "cell_type": "code",
   "execution_count": 3,
   "id": "df744e89-3f16-44e0-9fcd-0828dc48872b",
   "metadata": {},
   "outputs": [],
   "source": [
    "import geemap\n",
    "import numpy as np\n",
    "import matplotlib.pyplot as plt\n",
    "from scipy.stats import gumbel_r"
   ]
  },
  {
   "cell_type": "markdown",
   "id": "84482251-2b7d-485e-8002-6cecc49662be",
   "metadata": {},
   "source": [
    "Si les packages ne sont pas déjà installés, exécutez :\\\n",
    "!pip install earthengine-api geemap numpy matplotlib scipy"
   ]
  },
  {
   "cell_type": "markdown",
   "id": "2440c8c8-0588-4aea-9ca5-dd61fdd20123",
   "metadata": {},
   "source": [
    "## Sous-échantillonnage des données"
   ]
  },
  {
   "cell_type": "markdown",
   "id": "2a3cf804-7b11-43c2-80eb-51a6ae3d3e43",
   "metadata": {},
   "source": [
    "Ici, nous définissons la fonction qui nous permet de sous-échantillonner les données pour une région d'intérêt."
   ]
  },
  {
   "cell_type": "code",
   "execution_count": 4,
   "id": "2e1e0348-4837-482e-a36e-bbe476ede83d",
   "metadata": {},
   "outputs": [
    {
     "data": {
      "text/html": [
       "\n",
       "            <style>\n",
       "                .geemap-dark {\n",
       "                    --jp-widgets-color: white;\n",
       "                    --jp-widgets-label-color: white;\n",
       "                    --jp-ui-font-color1: white;\n",
       "                    --jp-layout-color2: #454545;\n",
       "                    background-color: #383838;\n",
       "                }\n",
       "                    \n",
       "                .geemap-dark .jupyter-button {\n",
       "                    --jp-layout-color3: #383838;\n",
       "                }\n",
       "                \n",
       "                .geemap-colab {\n",
       "                    background-color: var(--colab-primary-surface-color, white);\n",
       "                }\n",
       "                    \n",
       "                .geemap-colab .jupyter-button {\n",
       "                    --jp-layout-color3: var(--colab-primary-surface-color, white);\n",
       "                }\n",
       "            </style>\n",
       "            "
      ],
      "text/plain": [
       "<IPython.core.display.HTML object>"
      ]
     },
     "metadata": {},
     "output_type": "display_data"
    }
   ],
   "source": [
    "# La fonction suivante crée une boîte englobante (Région d'Intérêt) en fonction des latitudes/longitudes fournies. \n",
    "# Cela est utile pour limiter la quantité de données que nous récupérons et affichons.\n",
    "\n",
    "def create_bounding_box(center_lat, center_lon, width, height):\n",
    "    # Calculer la moitié de la largeur et la moitié de la hauteur.\n",
    "    half_width = width / 2\n",
    "    half_height = height / 2\n",
    "\n",
    "    # Définir les coordonnées de la boîte englobante.\n",
    "    bounding_box = [\n",
    "        [center_lon - half_width, center_lat - half_height],  # Coin inférieur gauche\n",
    "        [center_lon - half_width, center_lat + half_height],  # Coin supérieur gauche\n",
    "        [center_lon + half_width, center_lat + half_height],  # Coin inférieur droit\n",
    "        [center_lon + half_width, center_lat - half_height],  # Coin supérieur droit\n",
    "        [center_lon - half_width, center_lat - half_height],  # Fermeture du polygone\n",
    "    ]\n",
    "\n",
    "    return ee.Geometry.Polygon(bounding_box, None, False)"
   ]
  },
  {
   "cell_type": "markdown",
   "id": "7adcee72-a571-4487-a3ce-7759c751e9bd",
   "metadata": {},
   "source": [
    "### Spécifier la région d'intérêt, la période de temps et l'ensemble de données de précipitations."
   ]
  },
  {
   "cell_type": "markdown",
   "id": "fd8496a6-9e2b-4179-984e-61a58ffa0c2b",
   "metadata": {},
   "source": [
    "Maintenant, nous spécifions les paramètres d'intérêt pour sous-échantillonner les données."
   ]
  },
  {
   "cell_type": "code",
   "execution_count": 6,
   "id": "2a9877fe-a2d8-418f-89b9-20cbd74083bb",
   "metadata": {},
   "outputs": [
    {
     "data": {
      "text/html": [
       "\n",
       "            <style>\n",
       "                .geemap-dark {\n",
       "                    --jp-widgets-color: white;\n",
       "                    --jp-widgets-label-color: white;\n",
       "                    --jp-ui-font-color1: white;\n",
       "                    --jp-layout-color2: #454545;\n",
       "                    background-color: #383838;\n",
       "                }\n",
       "                    \n",
       "                .geemap-dark .jupyter-button {\n",
       "                    --jp-layout-color3: #383838;\n",
       "                }\n",
       "                \n",
       "                .geemap-colab {\n",
       "                    background-color: var(--colab-primary-surface-color, white);\n",
       "                }\n",
       "                    \n",
       "                .geemap-colab .jupyter-button {\n",
       "                    --jp-layout-color3: var(--colab-primary-surface-color, white);\n",
       "                }\n",
       "            </style>\n",
       "            "
      ],
      "text/plain": [
       "<IPython.core.display.HTML object>"
      ]
     },
     "metadata": {},
     "output_type": "display_data"
    }
   ],
   "source": [
    "# N'hésitez pas à changer pour une autre région d'intérêt (ROI)\n",
    "center_latitude = -18.665695\n",
    "center_longitude = 35.529564\n",
    "width = 5 # en degrés\n",
    "height = 5 # en degrés\n",
    "\n",
    "# Notez que la boîte englobante peut également être créée en utilisant les latitudes/longitudes minimales et maximales\n",
    "\n",
    "# Créez la boîte englobante\n",
    "roi = create_bounding_box(center_latitude, center_longitude, width, height)\n",
    "\n",
    "# Définissez la période de temps\n",
    "start_year = 1991\n",
    "end_year = 2021\n",
    "\n",
    "# Charger l'ensemble de données de précipitations CHRIPS\n",
    "# N'hésitez pas à changer pour un autre ensemble de données\n",
    "chirps = ee.ImageCollection('UCSB-CHG/CHIRPS/DAILY').filterDate(ee.Date(start_year), ee.Date(end_year)).select('precipitation')\n",
    "\n",
    "# Découpez l'ensemble de données à la région d'intérêt.\n",
    "chirps_roi = chirps.map(lambda img: img.clip(roi))"
   ]
  },
  {
   "cell_type": "markdown",
   "id": "47df254e-7c67-40e7-b9e9-4005e4761620",
   "metadata": {},
   "source": [
    "## Visualisez les données"
   ]
  },
  {
   "cell_type": "markdown",
   "id": "5054e7be-8848-4039-990a-abb63d6990e3",
   "metadata": {},
   "source": [
    "Tout d'abord, visualisons l'ensemble de données à l'aide du package geemap. Il est recommandé d'effectuer une étape de visualisation avant de sous-échantillonner les données."
   ]
  },
  {
   "cell_type": "code",
   "execution_count": 7,
   "id": "b1e3d084-7303-460f-a4de-7cd44cababa5",
   "metadata": {},
   "outputs": [
    {
     "data": {
      "text/html": [
       "\n",
       "            <style>\n",
       "                .geemap-dark {\n",
       "                    --jp-widgets-color: white;\n",
       "                    --jp-widgets-label-color: white;\n",
       "                    --jp-ui-font-color1: white;\n",
       "                    --jp-layout-color2: #454545;\n",
       "                    background-color: #383838;\n",
       "                }\n",
       "                    \n",
       "                .geemap-dark .jupyter-button {\n",
       "                    --jp-layout-color3: #383838;\n",
       "                }\n",
       "                \n",
       "                .geemap-colab {\n",
       "                    background-color: var(--colab-primary-surface-color, white);\n",
       "                }\n",
       "                    \n",
       "                .geemap-colab .jupyter-button {\n",
       "                    --jp-layout-color3: var(--colab-primary-surface-color, white);\n",
       "                }\n",
       "            </style>\n",
       "            "
      ],
      "text/plain": [
       "<IPython.core.display.HTML object>"
      ]
     },
     "metadata": {},
     "output_type": "display_data"
    },
    {
     "data": {
      "application/vnd.jupyter.widget-view+json": {
       "model_id": "1773689ae04b4353935de086696629a9",
       "version_major": 2,
       "version_minor": 0
      },
      "text/plain": [
       "Map(center=[-18.658919111911636, 35.52956399999995], controls=(WidgetControl(options=['position', 'transparent…"
      ]
     },
     "execution_count": 7,
     "metadata": {},
     "output_type": "execute_result"
    }
   ],
   "source": [
    "# Créez une carte et ajoutez la couche de précipitations\n",
    "Map = geemap.Map()\n",
    "# Centrez la carte en fonction de la région d'intérêt\n",
    "Map.centerObject(roi, 10)\n",
    "# Ajoutez la couche de précipitations CHIRPS et attribuez un style\n",
    "Map.addLayer(chirps_roi, {\n",
    "    'min': 0,\n",
    "    'max': 20,\n",
    "    'opacity': 0.5,\n",
    "    'palette': ['white', 'blue']\n",
    "}, 'Mean Precipitation')\n",
    "Map.addLayerControl()\n",
    "Map"
   ]
  },
  {
   "cell_type": "markdown",
   "id": "fd473409-0011-490e-a310-1287fb84cdd5",
   "metadata": {},
   "source": [
    "La carte montre que nous avons sélectionné la région d'intérêt à partir de l'ensemble de données CHIRPS."
   ]
  },
  {
   "cell_type": "markdown",
   "id": "fba63ae3-7c96-4fd6-a175-401145e80694",
   "metadata": {},
   "source": [
    "## Récupérer et traiter les données de précipitations CHIRPS\n",
    "Ici, nous combinons les étapes précédentes pour :\n",
    "\n",
    "1. Récupérer les données CHIRPS.\n",
    "2. Sous-échantillonner les données CHIRPS.\n",
    "3. Calculer le maximum annuel sur la région d'intérêt."
   ]
  },
  {
   "cell_type": "code",
   "execution_count": null,
   "id": "fa566190-f9dc-47fe-8cab-26609f5e6311",
   "metadata": {},
   "outputs": [
    {
     "data": {
      "text/html": [
       "\n",
       "            <style>\n",
       "                .geemap-dark {\n",
       "                    --jp-widgets-color: white;\n",
       "                    --jp-widgets-label-color: white;\n",
       "                    --jp-ui-font-color1: white;\n",
       "                    --jp-layout-color2: #454545;\n",
       "                    background-color: #383838;\n",
       "                }\n",
       "                    \n",
       "                .geemap-dark .jupyter-button {\n",
       "                    --jp-layout-color3: #383838;\n",
       "                }\n",
       "                \n",
       "                .geemap-colab {\n",
       "                    background-color: var(--colab-primary-surface-color, white);\n",
       "                }\n",
       "                    \n",
       "                .geemap-colab .jupyter-button {\n",
       "                    --jp-layout-color3: var(--colab-primary-surface-color, white);\n",
       "                }\n",
       "            </style>\n",
       "            "
      ],
      "text/plain": [
       "<IPython.core.display.HTML object>"
      ]
     },
     "metadata": {},
     "output_type": "display_data"
    },
    {
     "name": "stdout",
     "output_type": "stream",
     "text": [
      "Processing year: 1993\r"
     ]
    }
   ],
   "source": [
    "# Boucle entre l'année de début (start_year) et l'année de fin (end_year)\n",
    "yearly_max = []\n",
    "for year in range(start_year, end_year):  # Exemple : 1981 à 2020\n",
    "    print(f'Processing year: {year}', end='\\r')\n",
    "\n",
    "    # Spécifiez la date de début (start_date) et la date de fin (end_date) par année\n",
    "    start_date = f'{year}-01-01'\n",
    "    end_date = f'{year}-12-31'\n",
    "\n",
    "    # Récupérer les données CHIRPS via l'API Google Earth Engine\n",
    "    chirps = ee.ImageCollection('UCSB-CHG/CHIRPS/DAILY')\\\n",
    "                .filterDate(ee.Date(start_date), ee.Date(end_date))\\\n",
    "                .select('precipitation')\n",
    "    \n",
    "    # Obtenez la valeur maximale pour l'année\n",
    "    max_image = chirps.max()\n",
    "\n",
    "    # Réduisez la région à la région d'intérêt\n",
    "    max_value = max_image.reduceRegion(ee.Reducer.max(), roi, 1000).get('precipitation').getInfo()\n",
    "\n",
    "    # Ajoutez la sortie à la liste\n",
    "    yearly_max.append(max_value)"
   ]
  },
  {
   "cell_type": "markdown",
   "id": "74313246-1d17-4e1e-82fc-6870da3ecc5e",
   "metadata": {},
   "source": [
    "Les maxima journaliers annuels de précipitations sont collectés et stockés dans la variable yearly_max."
   ]
  },
  {
   "cell_type": "markdown",
   "id": "a20afc0a-a90e-4be2-81fb-5ab51fac97a4",
   "metadata": {},
   "source": [
    "## Analyse des valeurs extrêmes"
   ]
  },
  {
   "cell_type": "markdown",
   "id": "f4c13fba-794d-46ad-8bdc-f81005e6ac8e",
   "metadata": {},
   "source": [
    "La prochaine étape consiste à calculer les statistiques des valeurs extrêmes en ajustant une distribution aux maxima journaliers annuels de précipitations. Nous utiliserons la distribution de Gumbel, bien que d'autres types de distributions soient possibles :"
   ]
  },
  {
   "cell_type": "markdown",
   "id": "f044d63d-29d9-47d1-8083-e52ef6119176",
   "metadata": {},
   "source": [
    "![Create a Project](images/extreme_value_analysis.png)\n",
    "Source: Huyse & Thacker, 2004\n"
   ]
  },
  {
   "cell_type": "markdown",
   "id": "ed27eaf8-e828-468a-b170-ab3447c762b1",
   "metadata": {},
   "source": [
    "## Ajustement des données à une distribution de Gumbel"
   ]
  },
  {
   "cell_type": "markdown",
   "id": "b34999da-7035-4180-8f29-2d6e7a06e9e3",
   "metadata": {},
   "source": [
    "Ici, nous ajustons la distribution de Gumbel aux données."
   ]
  },
  {
   "cell_type": "code",
   "execution_count": null,
   "id": "83fbcde6-a527-4fdc-a4c7-bd2c4e34837a",
   "metadata": {},
   "outputs": [],
   "source": [
    "# Ajustez la distribution de Gumbel aux données\n",
    "params = gumbel_r.fit(yearly_max)\n",
    "location, scale = params"
   ]
  },
  {
   "cell_type": "markdown",
   "id": "fea27f31-348d-4e2a-8a9e-50f950c9fc15",
   "metadata": {},
   "source": [
    "## Visualisez les résultats"
   ]
  },
  {
   "cell_type": "markdown",
   "id": "406c44b8-5758-43d0-81b1-e6fc24281e5f",
   "metadata": {},
   "source": [
    "La dernière étape consiste à visualiser les résultats sous la forme d'un graphique de Gumbel"
   ]
  },
  {
   "cell_type": "code",
   "execution_count": null,
   "id": "9b32d4b4-1409-40b3-853b-48f9533abf00",
   "metadata": {},
   "outputs": [],
   "source": [
    "# Calculer la fonction de répartition cumulative (FRC) pour les valeurs maximales quotidiennes annuelles de précipitations\n",
    "cdf_values = gumbel_r.cdf(yearly_max, *params)\n",
    "\n",
    "# Calculer les périodes de retour à partir des valeurs de la fonction de répartition cumulative (FRC)\n",
    "return_periods = 1 / (1 - cdf_values)\n",
    "\n",
    "# Triez les données pour le tracé (important pour que les graphiques en ligne aient du sens)\n",
    "sorted_indices = np.argsort(return_periods)\n",
    "sorted_return_periods = return_periods[sorted_indices]\n",
    "sorted_yearly_max = np.array(yearly_max)[sorted_indices]\n",
    "\n",
    "# Plotting\n",
    "plt.figure(figsize=(8, 6))\n",
    "plt.plot(sorted_return_periods, sorted_yearly_max, marker='o', linestyle='-', color='b')\n",
    "plt.xscale('log')  # Optionnel : Une échelle logarithmique peut rendre le graphique plus facile à interpréter\n",
    "plt.xlabel('Return Period (years)')\n",
    "plt.ylabel('Annual Daily Maximum Precipitation (mm)')\n",
    "plt.title('Gumbel Plot of Annual Daily Maximum Precipitation')\n",
    "plt.grid(True, which=\"both\", ls=\"--\")\n",
    "plt.show()"
   ]
  },
  {
   "cell_type": "markdown",
   "id": "b4993264-01e4-45c9-895f-7e7587aafe82",
   "metadata": {},
   "source": [
    "## Vous avez réussi à créer une analyse des valeurs extrêmes de l'occurrence des maxima journaliers annuels de précipitations!"
   ]
  },
  {
   "cell_type": "markdown",
   "id": "9737c261-0554-4e48-ab64-40943bb09c6c",
   "metadata": {},
   "source": [
    "Veuillez essayer de :\n",
    "\n",
    "- Sélectionner une région d'intérêt différente et comparer les résultats.\n",
    "- Choisir un ensemble de données de précipitations différent et comparer les résultats.\n",
    "- Extrapoler le graphique de Gumbel pour des périodes de retour plus élevées.\n",
    "- Appliquer un ajustement différent, tel que la distribution généralisée des valeurs extrêmes (GEV)."
   ]
  },
  {
   "cell_type": "code",
   "execution_count": null,
   "id": "0dccaa06-f50d-483e-b840-c5b6c003846e",
   "metadata": {},
   "outputs": [],
   "source": []
  }
 ],
 "metadata": {
  "kernelspec": {
   "display_name": "Python 3 (ipykernel)",
   "language": "python",
   "name": "python3"
  },
  "language_info": {
   "codemirror_mode": {
    "name": "ipython",
    "version": 3
   },
   "file_extension": ".py",
   "mimetype": "text/x-python",
   "name": "python",
   "nbconvert_exporter": "python",
   "pygments_lexer": "ipython3",
   "version": "3.12.1"
  }
 },
 "nbformat": 4,
 "nbformat_minor": 5
}
