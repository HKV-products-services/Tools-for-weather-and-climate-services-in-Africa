{
 "cells": [
  {
   "cell_type": "markdown",
   "metadata": {},
   "source": [
    "## Réponses du tutorial: Les functions de base en Python"
   ]
  },
  {
   "cell_type": "code",
   "execution_count": 1,
   "metadata": {},
   "outputs": [
    {
     "name": "stdout",
     "output_type": "stream",
     "text": [
      "Je m'appelle Alice, j'ai 20 ans et j'habite à Paris.\n"
     ]
    }
   ],
   "source": [
    "# Solution exercice 2.1.\n",
    "\n",
    "prenom = \"Alice\"\n",
    "age = 20\n",
    "ville = \"Paris\"\n",
    "\n",
    "# Afficher la phrase avec print()\n",
    "print(f\"Je m'appelle {prenom}, j'ai {age} ans et j'habite à {ville}.\")"
   ]
  },
  {
   "cell_type": "code",
   "execution_count": 2,
   "metadata": {},
   "outputs": [
    {
     "data": {
      "image/png": "[encoded data removed]",
      "text/plain": [
       "<Figure size 640x480 with 1 Axes>"
      ]
     },
     "metadata": {},
     "output_type": "display_data"
    }
   ],
   "source": [
    "# Solution exercice 3.3\n",
    "\n",
    "# Importer la bibliothèque pour les graphiques\n",
    "import matplotlib.pyplot as plt\n",
    "\n",
    "# Données de pluie sur plusieurs jours (en mm)\n",
    "jours = [1, 2, 3, 4, 5, 6, 7]\n",
    "pluie = [5, 12, 0, 8, 15, 3, 10]\n",
    "\n",
    "# Créer un graphique à barres\n",
    "plt.bar(jours, pluie, color='skyblue')\n",
    "\n",
    "# Ajouter un titre et des étiquettes pour les axes\n",
    "plt.title(\"Pluie sur 7 jours\")\n",
    "plt.xlabel(\"Jour\")\n",
    "plt.ylabel(\"Pluie (mm)\")\n",
    "\n",
    "# Afficher le graphique\n",
    "plt.show()\n"
   ]
  },
  {
   "cell_type": "code",
   "execution_count": 3,
   "metadata": {},
   "outputs": [
    {
     "name": "stdout",
     "output_type": "stream",
     "text": [
      "Total de pluie 1 : 40 mm\n",
      "Total de pluie 2 : 22 mm\n"
     ]
    }
   ],
   "source": [
    "# Solution exercice 4.1.\n",
    "def total_pluie(liste_pluie):\n",
    "    \"\"\"\n",
    "    Calcule le total de pluie pour plusieurs jours.\n",
    "    \"\"\"\n",
    "    total = sum(liste_pluie)  \n",
    "    return total\n",
    "\n",
    "pluie_jours1 = [5, 12, 0, 8, 15]\n",
    "pluie_jours2 = [3, 7, 2, 0, 10]\n",
    "\n",
    "total1 = total_pluie(pluie_jours1)\n",
    "total2 = total_pluie(pluie_jours2)\n",
    "\n",
    "print(f\"Total de pluie 1 : {total1} mm\")\n",
    "print(f\"Total de pluie 2 : {total2} mm\")"
   ]
  },
  {
   "cell_type": "code",
   "execution_count": 4,
   "metadata": {},
   "outputs": [
    {
     "name": "stdout",
     "output_type": "stream",
     "text": [
      "Débit total : 150 m³/s\n",
      "Débit normal\n"
     ]
    }
   ],
   "source": [
    "# Solution exercice 5.1 \n",
    "\n",
    "# Débits des rivières (en m³/s)\n",
    "debit_riviere_1 = 100\n",
    "debit_riviere_2 = 50\n",
    "\n",
    "# Calculer le débit total\n",
    "debit_total = debit_riviere_1 + debit_riviere_2\n",
    "print(f\"Débit total : {debit_total} m³/s\")\n",
    "\n",
    "# Vérifier le débit avec if / elif / else\n",
    "if debit_total < 100:\n",
    "    print(\"Il fait sec\")\n",
    "elif debit_total <= 200:  # entre 100 et 200 inclus\n",
    "    print(\"Débit normal\")\n",
    "else:\n",
    "    print(\"Beaucoup d’eau !\")\n"
   ]
  },
  {
   "cell_type": "code",
   "execution_count": 5,
   "metadata": {},
   "outputs": [
    {
     "name": "stdout",
     "output_type": "stream",
     "text": [
      "5 mm\n",
      "10 mm\n",
      "0 mm\n",
      "8 mm\n",
      "12 mm\n"
     ]
    }
   ],
   "source": [
    "# Solution exercice 6.1.\n",
    "pluie = [5, 10, 0, 8, 12]\n",
    "\n",
    "# Boucle pour afficher chaque valeur de pluie\n",
    "for valeur in pluie:\n",
    "    print(valeur, \"mm\")\n"
   ]
  },
  {
   "cell_type": "code",
   "execution_count": 6,
   "metadata": {},
   "outputs": [
    {
     "name": "stdout",
     "output_type": "stream",
     "text": [
      "Jour 1 : 2 mm d'évaporation\n",
      "Jour 2 : 5 mm d'évaporation\n",
      "Jour 3 : 1 mm d'évaporation\n",
      "Jour 4 : 3 mm d'évaporation\n",
      "Jour 5 : 4 mm d'évaporation\n",
      "Jour 6 : 2 mm d'évaporation\n",
      "Jour 7 : 3 mm d'évaporation\n",
      "Total d'évaporation sur 7 jours : 20 mm\n",
      "Moyenne d'évaporation par jour : 2.86 mm\n"
     ]
    }
   ],
   "source": [
    "# Solution exercice 6.2\n",
    "evaporation_jours = [2, 5, 1, 3, 4, 2, 3]\n",
    "\n",
    "total_evaporation = 0\n",
    "nombre_jours = len(evaporation_jours)\n",
    "\n",
    "# Boucle pour parcourir chaque jour et accumuler le total\n",
    "for i, valeur in enumerate(evaporation_jours, start=1):\n",
    "    print(f\"Jour {i} : {valeur} mm d'évaporation\")\n",
    "    total_evaporation += valeur\n",
    "\n",
    "# Calculer la moyenne\n",
    "moyenne = total_evaporation / nombre_jours\n",
    "\n",
    "# Afficher les résultats\n",
    "print(f\"Total d'évaporation sur {nombre_jours} jours : {total_evaporation} mm\")\n",
    "print(f\"Moyenne d'évaporation par jour : {moyenne:.2f} mm\")"
   ]
  }
 ],
 "metadata": {
  "kernelspec": {
   "display_name": "gpm_env_2",
   "language": "python",
   "name": "python3"
  },
  "language_info": {
   "codemirror_mode": {
    "name": "ipython",
    "version": 3
   },
   "file_extension": ".py",
   "mimetype": "text/x-python",
   "name": "python",
   "nbconvert_exporter": "python",
   "pygments_lexer": "ipython3",
   "version": "3.10.18"
  }
 },
 "nbformat": 4,
 "nbformat_minor": 2
}
